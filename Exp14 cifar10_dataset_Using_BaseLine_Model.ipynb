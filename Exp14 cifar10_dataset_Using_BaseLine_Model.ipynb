{
 "cells": [
  {
   "cell_type": "code",
   "execution_count": null,
   "metadata": {
    "id": "yqSFjx0xeolU"
   },
   "outputs": [],
   "source": [
    "# baseline cnn model for cifar10\n",
    "from numpy import mean\n",
    "from numpy import std\n",
    "from matplotlib import pyplot\n",
    "from sklearn.model_selection import KFold\n",
    "from keras.datasets import fashion_mnist\n",
    "from keras.utils import to_categorical\n",
    "from keras.models import Sequential\n",
    "from keras.layers import Conv2D\n",
    "from keras.layers import MaxPooling2D\n",
    "from keras.layers import Dense\n",
    "from keras.layers import Flatten\n",
    "from keras.optimizers import SGD"
   ]
  },
  {
   "cell_type": "code",
   "execution_count": null,
   "metadata": {
    "id": "rtgTQWI1Onz2"
   },
   "outputs": [],
   "source": []
  },
  {
   "cell_type": "code",
   "execution_count": null,
   "metadata": {
    "id": "eU1XCRYQOn4W"
   },
   "outputs": [],
   "source": []
  },
  {
   "cell_type": "code",
   "execution_count": null,
   "metadata": {
    "id": "e92P-PQKOn9E"
   },
   "outputs": [],
   "source": []
  },
  {
   "cell_type": "markdown",
   "metadata": {
    "id": "wrEL-W8ie5m3"
   },
   "source": [
    "0: airplane\n",
    "\n",
    "❼ 1: automobile\n",
    "\n",
    "❼ 2: bird\n",
    "\n",
    "❼ 3: cat\n",
    "\n",
    "❼ 4: deer\n",
    "\n",
    "❼ 5: dog\n",
    "\n",
    "❼ 6: frog\n",
    "\n",
    "❼ 7: horse\n",
    "\n",
    "❼ 8: ship\n",
    "\n",
    "❼ 9: truck\n"
   ]
  },
  {
   "cell_type": "code",
   "execution_count": null,
   "metadata": {
    "colab": {
     "base_uri": "https://localhost:8080/"
    },
    "id": "0ITEQsRse0dI",
    "outputId": "c1186a06-bbfc-425a-98db-bac6c3e89c61"
   },
   "outputs": [
    {
     "name": "stdout",
     "output_type": "stream",
     "text": [
      "Downloading data from https://www.cs.toronto.edu/~kriz/cifar-10-python.tar.gz\n",
      "170500096/170498071 [==============================] - 4s 0us/step\n",
      "Train: X=(50000, 32, 32, 3), y=(50000, 1)\n",
      "Test: X=(10000, 32, 32, 3), y=(10000, 1)\n"
     ]
    }
   ],
   "source": [
    "# load dataset\n",
    "from matplotlib import pyplot\n",
    "from keras.datasets import cifar10\n",
    "(trainX, trainy), (testX, testy) = cifar10.load_data()\n",
    "# summarize loaded dataset\n",
    "print(\"Train: X=%s, y=%s\" % (trainX.shape, trainy.shape))\n",
    "print(\"Test: X=%s, y=%s\" % (testX.shape, testy.shape))"
   ]
  },
  {
   "cell_type": "code",
   "execution_count": null,
   "metadata": {
    "colab": {
     "base_uri": "https://localhost:8080/"
    },
    "id": "XcOHbzXNfGx1",
    "outputId": "0f90574a-b476-42e7-ada6-5fad5166d700"
   },
   "outputs": [
    {
     "name": "stdout",
     "output_type": "stream",
     "text": [
      "(50000, 32, 32, 3) (50000, 1)\n"
     ]
    }
   ],
   "source": [
    "print(trainX.shape, trainy.shape)"
   ]
  },
  {
   "cell_type": "code",
   "execution_count": null,
   "metadata": {
    "id": "sZ9BYIDvmo4H"
   },
   "outputs": [],
   "source": [
    "x1=trainX[4]"
   ]
  },
  {
   "cell_type": "code",
   "execution_count": null,
   "metadata": {
    "colab": {
     "base_uri": "https://localhost:8080/"
    },
    "id": "JdqPjMjPmt_J",
    "outputId": "2c2904c3-b901-43b2-fb08-2d831435c652"
   },
   "outputs": [
    {
     "data": {
      "text/plain": [
       "(32, 32, 3)"
      ]
     },
     "execution_count": 5,
     "metadata": {
      "tags": []
     },
     "output_type": "execute_result"
    }
   ],
   "source": [
    "x1.shape"
   ]
  },
  {
   "cell_type": "code",
   "execution_count": null,
   "metadata": {
    "id": "d6WQ8DC6n-UN"
   },
   "outputs": [],
   "source": [
    "from matplotlib import pyplot"
   ]
  },
  {
   "cell_type": "code",
   "execution_count": null,
   "metadata": {
    "colab": {
     "base_uri": "https://localhost:8080/",
     "height": 283
    },
    "id": "b6iGl0Nbn_X6",
    "outputId": "9a106a63-5760-46a7-d730-5795a7545fbe"
   },
   "outputs": [
    {
     "data": {
      "text/plain": [
       "<matplotlib.image.AxesImage at 0x7f2fe33eb310>"
      ]
     },
     "execution_count": 7,
     "metadata": {
      "tags": []
     },
     "output_type": "execute_result"
    },
    {
     "data": {
      "image/png": "[encoded data removed]",
      "text/plain": [
       "<Figure size 432x288 with 1 Axes>"
      ]
     },
     "metadata": {
      "needs_background": "light",
      "tags": []
     },
     "output_type": "display_data"
    }
   ],
   "source": [
    "pyplot.imshow(x1)"
   ]
  },
  {
   "cell_type": "code",
   "execution_count": null,
   "metadata": {
    "id": "AZAArFcSmiyr"
   },
   "outputs": [],
   "source": []
  },
  {
   "cell_type": "code",
   "execution_count": null,
   "metadata": {
    "id": "fXcSrLPOfYiz"
   },
   "outputs": [],
   "source": [
    "trainY = to_categorical(trainy)\n",
    "testY = to_categorical(testy)"
   ]
  },
  {
   "cell_type": "code",
   "execution_count": null,
   "metadata": {
    "colab": {
     "base_uri": "https://localhost:8080/"
    },
    "id": "JO6InZJrfakv",
    "outputId": "57cdddcc-ab8c-419b-a985-2066a370850f"
   },
   "outputs": [
    {
     "name": "stdout",
     "output_type": "stream",
     "text": [
      "Train: X=(50000, 32, 32, 3), y=(50000, 10)\n",
      "Test: X=(10000, 32, 32, 3), y=(10000, 10)\n"
     ]
    }
   ],
   "source": [
    "print(\"Train: X=%s, y=%s\" % (trainX.shape, trainY.shape))\n",
    "print(\"Test: X=%s, y=%s\" % (testX.shape, testY.shape))"
   ]
  },
  {
   "cell_type": "code",
   "execution_count": null,
   "metadata": {
    "id": "3uGW43Yyfcje"
   },
   "outputs": [],
   "source": [
    "# convert from integers to floats\n",
    "train_norm = trainX.astype(\"float32\")\n",
    "test_norm = testX.astype(\"float32\")\n",
    "# normalize to range 0-1\n",
    "train_norm = train_norm / 255.0\n",
    "test_norm = test_norm / 255.0"
   ]
  },
  {
   "cell_type": "code",
   "execution_count": null,
   "metadata": {
    "id": "dhzZE0DufeXb"
   },
   "outputs": [],
   "source": []
  },
  {
   "cell_type": "code",
   "execution_count": null,
   "metadata": {
    "id": "4mhlqQ33hK4X"
   },
   "outputs": [],
   "source": [
    "model=Sequential()\n",
    "model.add(Conv2D(32,(3,3),activation=\"relu\",padding=\"same\",kernel_initializer=\"he_uniform\",input_shape=(32, 32, 3)))\n",
    "model.add(MaxPooling2D((2, 2)))\n",
    "model.add(Conv2D(64, (3, 3), activation=\"relu\", kernel_initializer=\"he_uniform\",\n",
    "padding=\"same\"))\n",
    "model.add(MaxPooling2D((2, 2)))\n",
    "# example output part of the model\n",
    "model.add(Flatten())\n",
    "model.add(Dense(128, activation=\"relu\", kernel_initializer=\"he_uniform\"))\n",
    "model.add(Dense(10, activation=\"softmax\"))"
   ]
  },
  {
   "cell_type": "code",
   "execution_count": null,
   "metadata": {
    "id": "g8hAJCwCfg8V"
   },
   "outputs": [],
   "source": [
    "opt = SGD(lr=0.001, momentum=0.9)\n",
    "model.compile(optimizer=opt, loss=\"categorical_crossentropy\", metrics=[\"accuracy\"])"
   ]
  },
  {
   "cell_type": "code",
   "execution_count": null,
   "metadata": {
    "colab": {
     "base_uri": "https://localhost:8080/"
    },
    "id": "n2oxy2Arfjqt",
    "outputId": "425231f3-6087-4b2b-8de7-53aeda570fce"
   },
   "outputs": [
    {
     "name": "stdout",
     "output_type": "stream",
     "text": [
      "Model: \"sequential_1\"\n",
      "_________________________________________________________________\n",
      "Layer (type)                 Output Shape              Param #   \n",
      "=================================================================\n",
      "conv2d_2 (Conv2D)            (None, 32, 32, 32)        896       \n",
      "_________________________________________________________________\n",
      "max_pooling2d_2 (MaxPooling2 (None, 16, 16, 32)        0         \n",
      "_________________________________________________________________\n",
      "conv2d_3 (Conv2D)            (None, 16, 16, 64)        18496     \n",
      "_________________________________________________________________\n",
      "max_pooling2d_3 (MaxPooling2 (None, 8, 8, 64)          0         \n",
      "_________________________________________________________________\n",
      "flatten_1 (Flatten)          (None, 4096)              0         \n",
      "_________________________________________________________________\n",
      "dense_2 (Dense)              (None, 128)               524416    \n",
      "_________________________________________________________________\n",
      "dense_3 (Dense)              (None, 10)                1290      \n",
      "=================================================================\n",
      "Total params: 545,098\n",
      "Trainable params: 545,098\n",
      "Non-trainable params: 0\n",
      "_________________________________________________________________\n"
     ]
    }
   ],
   "source": [
    "model.summary()"
   ]
  },
  {
   "cell_type": "code",
   "execution_count": null,
   "metadata": {
    "colab": {
     "base_uri": "https://localhost:8080/"
    },
    "id": "qQNb7bXjflgX",
    "outputId": "4fe4b832-2ef1-401a-cb43-2190d5686c43",
    "scrolled": true
   },
   "outputs": [
    {
     "name": "stdout",
     "output_type": "stream",
     "text": [
      "Epoch 1/20\n",
      "782/782 [==============================] - 37s 6ms/step - loss: 2.0055 - accuracy: 0.2818 - val_loss: 1.5756 - val_accuracy: 0.4449\n",
      "Epoch 2/20\n",
      "782/782 [==============================] - 4s 5ms/step - loss: 1.5298 - accuracy: 0.4634 - val_loss: 1.3793 - val_accuracy: 0.5196\n",
      "Epoch 3/20\n",
      "782/782 [==============================] - 4s 5ms/step - loss: 1.3481 - accuracy: 0.5236 - val_loss: 1.2702 - val_accuracy: 0.5515\n",
      "Epoch 4/20\n",
      "782/782 [==============================] - 4s 5ms/step - loss: 1.2466 - accuracy: 0.5614 - val_loss: 1.2133 - val_accuracy: 0.5728\n",
      "Epoch 5/20\n",
      "782/782 [==============================] - 4s 5ms/step - loss: 1.1705 - accuracy: 0.5888 - val_loss: 1.1911 - val_accuracy: 0.5828\n",
      "Epoch 6/20\n",
      "782/782 [==============================] - 4s 5ms/step - loss: 1.1125 - accuracy: 0.6126 - val_loss: 1.0904 - val_accuracy: 0.6181\n",
      "Epoch 7/20\n",
      "782/782 [==============================] - 4s 5ms/step - loss: 1.0526 - accuracy: 0.6304 - val_loss: 1.0526 - val_accuracy: 0.6340\n",
      "Epoch 8/20\n",
      "782/782 [==============================] - 4s 5ms/step - loss: 0.9936 - accuracy: 0.6543 - val_loss: 1.0134 - val_accuracy: 0.6419\n",
      "Epoch 9/20\n",
      "782/782 [==============================] - 4s 5ms/step - loss: 0.9513 - accuracy: 0.6704 - val_loss: 1.0177 - val_accuracy: 0.6432\n",
      "Epoch 10/20\n",
      "782/782 [==============================] - 4s 5ms/step - loss: 0.9266 - accuracy: 0.6794 - val_loss: 0.9857 - val_accuracy: 0.6578\n",
      "Epoch 11/20\n",
      "782/782 [==============================] - 4s 5ms/step - loss: 0.8940 - accuracy: 0.6909 - val_loss: 0.9759 - val_accuracy: 0.6572\n",
      "Epoch 12/20\n",
      "782/782 [==============================] - 4s 5ms/step - loss: 0.8532 - accuracy: 0.7040 - val_loss: 0.9472 - val_accuracy: 0.6717\n",
      "Epoch 13/20\n",
      "782/782 [==============================] - 4s 5ms/step - loss: 0.8321 - accuracy: 0.7122 - val_loss: 0.9216 - val_accuracy: 0.6802\n",
      "Epoch 14/20\n",
      "782/782 [==============================] - 4s 5ms/step - loss: 0.7994 - accuracy: 0.7274 - val_loss: 0.9215 - val_accuracy: 0.6801\n",
      "Epoch 15/20\n",
      "782/782 [==============================] - 4s 5ms/step - loss: 0.7651 - accuracy: 0.7387 - val_loss: 0.9232 - val_accuracy: 0.6840\n",
      "Epoch 16/20\n",
      "782/782 [==============================] - 4s 5ms/step - loss: 0.7366 - accuracy: 0.7478 - val_loss: 0.8912 - val_accuracy: 0.6916\n",
      "Epoch 17/20\n",
      "782/782 [==============================] - 4s 5ms/step - loss: 0.7173 - accuracy: 0.7552 - val_loss: 0.8905 - val_accuracy: 0.6968\n",
      "Epoch 18/20\n",
      "782/782 [==============================] - 4s 5ms/step - loss: 0.6929 - accuracy: 0.7618 - val_loss: 0.9187 - val_accuracy: 0.6825\n",
      "Epoch 19/20\n",
      "782/782 [==============================] - 4s 5ms/step - loss: 0.6707 - accuracy: 0.7697 - val_loss: 0.9126 - val_accuracy: 0.6901\n",
      "Epoch 20/20\n",
      "782/782 [==============================] - 4s 5ms/step - loss: 0.6417 - accuracy: 0.7800 - val_loss: 0.8952 - val_accuracy: 0.6956\n"
     ]
    }
   ],
   "source": [
    "\n",
    "history=model.fit(train_norm, trainY, epochs=20, batch_size=64, validation_data=(test_norm, testY), verbose=1)"
   ]
  },
  {
   "cell_type": "code",
   "execution_count": null,
   "metadata": {
    "colab": {
     "base_uri": "https://localhost:8080/",
     "height": 180
    },
    "id": "M-6x2Jdlfn4Z",
    "outputId": "e3f8b082-0639-4631-c28c-dab5c2eef94a"
   },
   "outputs": [
    {
     "data": {
      "text/plain": [
       "[<matplotlib.lines.Line2D at 0x7f2f9611f850>]"
      ]
     },
     "execution_count": 16,
     "metadata": {
      "tags": []
     },
     "output_type": "execute_result"
    },
    {
     "data": {
      "image/png": "[encoded data removed]",
      "text/plain": [
       "<Figure size 432x288 with 1 Axes>"
      ]
     },
     "metadata": {
      "needs_background": "light",
      "tags": []
     },
     "output_type": "display_data"
    }
   ],
   "source": [
    "import matplotlib.pyplot as plt\n",
    "\n",
    "plt.subplot(211)\n",
    "plt.title(\"Cross Entropy Loss\")\n",
    "plt.plot(history.history[\"loss\"], color=\"blue\", label=\"train\")\n",
    "plt.plot(history.history[\"val_loss\"], color=\"orange\", label=\"test\")"
   ]
  },
  {
   "cell_type": "code",
   "execution_count": null,
   "metadata": {
    "colab": {
     "base_uri": "https://localhost:8080/",
     "height": 298
    },
    "id": "hifZT3BhftW0",
    "outputId": "aaf3142c-b790-46d7-818f-04a8f2e6ffe5"
   },
   "outputs": [
    {
     "data": {
      "text/plain": [
       "[<matplotlib.lines.Line2D at 0x7f2f960921d0>]"
      ]
     },
     "execution_count": 17,
     "metadata": {
      "tags": []
     },
     "output_type": "execute_result"
    },
    {
     "data": {
      "image/png": "[encoded data removed]",
      "text/plain": [
       "<Figure size 432x288 with 1 Axes>"
      ]
     },
     "metadata": {
      "needs_background": "light",
      "tags": []
     },
     "output_type": "display_data"
    }
   ],
   "source": [
    "plt.title(\"Classification Accuracy\")\n",
    "plt.plot(history.history[\"accuracy\"], color=\"blue\", label=\"train\")\n",
    "plt.plot(history.history[\"val_accuracy\"], color=\"orange\", label=\"test\")"
   ]
  },
  {
   "cell_type": "code",
   "execution_count": null,
   "metadata": {
    "id": "D-34uzAEgXPT"
   },
   "outputs": [],
   "source": []
  },
  {
   "cell_type": "markdown",
   "metadata": {
    "id": "61CriW4EOo9d"
   },
   "source": [
    "Let's Increase The complexity"
   ]
  },
  {
   "cell_type": "code",
   "execution_count": null,
   "metadata": {
    "id": "O8yQrg49Or4m"
   },
   "outputs": [],
   "source": [
    "model=Sequential()\n",
    "model.add(Conv2D(32,(3,3),activation=\"relu\",padding=\"same\",kernel_initializer=\"he_uniform\",input_shape=(32, 32, 3)))\n",
    "model.add(Conv2D(32, (3, 3), activation=\"relu\", kernel_initializer=\"he_uniform\",\n",
    "padding=\"same\"))\n",
    "model.add(MaxPooling2D((2, 2)))\n",
    "model.add(Conv2D(64, (3, 3), activation=\"relu\", kernel_initializer=\"he_uniform\",\n",
    "padding=\"same\"))\n",
    "model.add(Conv2D(64, (3, 3), activation=\"relu\", kernel_initializer=\"he_uniform\",\n",
    "padding=\"same\"))\n",
    "model.add(MaxPooling2D((2, 2)))\n",
    "model.add(Conv2D(128, (3, 3), activation=\"relu\", kernel_initializer=\"he_uniform\",\n",
    "padding=\"same\"))\n",
    "model.add(Conv2D(128, (3, 3), activation=\"relu\", kernel_initializer=\"he_uniform\",\n",
    "padding=\"same\"))\n",
    "model.add(MaxPooling2D((2, 2)))\n",
    "# example output part of the model\n",
    "model.add(Flatten())\n",
    "model.add(Dense(128, activation=\"relu\", kernel_initializer=\"he_uniform\"))\n",
    "model.add(Dense(10, activation=\"softmax\"))"
   ]
  },
  {
   "cell_type": "code",
   "execution_count": null,
   "metadata": {
    "colab": {
     "base_uri": "https://localhost:8080/"
    },
    "id": "KeczFJfiOsjA",
    "outputId": "bbe6b3f5-506a-4fb2-f99a-e8e0b37645e3",
    "scrolled": true
   },
   "outputs": [
    {
     "name": "stdout",
     "output_type": "stream",
     "text": [
      "Epoch 1/20\n",
      "782/782 [==============================] - 8s 9ms/step - loss: 1.9566 - accuracy: 0.2887 - val_loss: 1.4558 - val_accuracy: 0.4759\n",
      "Epoch 2/20\n",
      "782/782 [==============================] - 6s 8ms/step - loss: 1.4255 - accuracy: 0.4866 - val_loss: 1.2638 - val_accuracy: 0.5503\n",
      "Epoch 3/20\n",
      "782/782 [==============================] - 6s 8ms/step - loss: 1.2329 - accuracy: 0.5635 - val_loss: 1.2191 - val_accuracy: 0.5734\n",
      "Epoch 4/20\n",
      "782/782 [==============================] - 6s 8ms/step - loss: 1.0867 - accuracy: 0.6138 - val_loss: 1.0705 - val_accuracy: 0.6169\n",
      "Epoch 5/20\n",
      "782/782 [==============================] - 6s 8ms/step - loss: 0.9700 - accuracy: 0.6587 - val_loss: 0.9876 - val_accuracy: 0.6535\n",
      "Epoch 6/20\n",
      "782/782 [==============================] - 6s 8ms/step - loss: 0.8816 - accuracy: 0.6921 - val_loss: 0.9561 - val_accuracy: 0.6690\n",
      "Epoch 7/20\n",
      "782/782 [==============================] - 6s 8ms/step - loss: 0.8217 - accuracy: 0.7120 - val_loss: 0.9601 - val_accuracy: 0.6707\n",
      "Epoch 8/20\n",
      "782/782 [==============================] - 6s 8ms/step - loss: 0.7519 - accuracy: 0.7367 - val_loss: 0.8869 - val_accuracy: 0.6898\n",
      "Epoch 9/20\n",
      "782/782 [==============================] - 6s 8ms/step - loss: 0.6923 - accuracy: 0.7589 - val_loss: 0.8531 - val_accuracy: 0.7060\n",
      "Epoch 10/20\n",
      "782/782 [==============================] - 6s 8ms/step - loss: 0.6345 - accuracy: 0.7810 - val_loss: 0.8582 - val_accuracy: 0.7064\n",
      "Epoch 11/20\n",
      "782/782 [==============================] - 6s 8ms/step - loss: 0.5800 - accuracy: 0.7985 - val_loss: 0.8776 - val_accuracy: 0.7069\n",
      "Epoch 12/20\n",
      "782/782 [==============================] - 6s 8ms/step - loss: 0.5299 - accuracy: 0.8160 - val_loss: 0.8795 - val_accuracy: 0.7121\n",
      "Epoch 13/20\n",
      "782/782 [==============================] - 6s 8ms/step - loss: 0.4784 - accuracy: 0.8353 - val_loss: 0.8347 - val_accuracy: 0.7214\n",
      "Epoch 14/20\n",
      "782/782 [==============================] - 6s 8ms/step - loss: 0.4376 - accuracy: 0.8487 - val_loss: 0.8805 - val_accuracy: 0.7233\n",
      "Epoch 15/20\n",
      "782/782 [==============================] - 6s 8ms/step - loss: 0.3908 - accuracy: 0.8636 - val_loss: 0.8520 - val_accuracy: 0.7251\n",
      "Epoch 16/20\n",
      "782/782 [==============================] - 6s 8ms/step - loss: 0.3567 - accuracy: 0.8750 - val_loss: 0.9122 - val_accuracy: 0.7233\n",
      "Epoch 17/20\n",
      "782/782 [==============================] - 6s 8ms/step - loss: 0.3066 - accuracy: 0.8949 - val_loss: 0.9656 - val_accuracy: 0.7274\n",
      "Epoch 18/20\n",
      "782/782 [==============================] - 6s 8ms/step - loss: 0.2634 - accuracy: 0.9082 - val_loss: 0.9881 - val_accuracy: 0.7254\n",
      "Epoch 19/20\n",
      "782/782 [==============================] - 6s 8ms/step - loss: 0.2321 - accuracy: 0.9209 - val_loss: 1.0129 - val_accuracy: 0.7243\n",
      "Epoch 20/20\n",
      "782/782 [==============================] - 6s 8ms/step - loss: 0.1933 - accuracy: 0.9336 - val_loss: 1.0789 - val_accuracy: 0.7178\n"
     ]
    }
   ],
   "source": [
    "opt = SGD(lr=0.001, momentum=0.9)\n",
    "model.compile(optimizer=opt, loss=\"categorical_crossentropy\", metrics=[\"accuracy\"])\n",
    "history=model.fit(train_norm, trainY, epochs=20, batch_size=64, validation_data=(test_norm, testY), verbose=1)"
   ]
  },
  {
   "cell_type": "code",
   "execution_count": null,
   "metadata": {
    "colab": {
     "base_uri": "https://localhost:8080/",
     "height": 180
    },
    "id": "sUHNCCCqO2EO",
    "outputId": "c2570de6-62d8-47c2-feb4-25e4b212ae41"
   },
   "outputs": [
    {
     "data": {
      "text/plain": [
       "[<matplotlib.lines.Line2D at 0x7f2f8e6bb890>]"
      ]
     },
     "execution_count": 20,
     "metadata": {
      "tags": []
     },
     "output_type": "execute_result"
    },
    {
     "data": {
      "image/png": "[encoded data removed]",
      "text/plain": [
       "<Figure size 432x288 with 1 Axes>"
      ]
     },
     "metadata": {
      "needs_background": "light",
      "tags": []
     },
     "output_type": "display_data"
    }
   ],
   "source": [
    "import matplotlib.pyplot as plt\n",
    "\n",
    "plt.subplot(211)\n",
    "plt.title(\"Cross Entropy Loss\")\n",
    "plt.plot(history.history[\"loss\"], color=\"blue\", label=\"train\")\n",
    "plt.plot(history.history[\"val_loss\"], color=\"orange\", label=\"test\")"
   ]
  },
  {
   "cell_type": "code",
   "execution_count": null,
   "metadata": {
    "colab": {
     "base_uri": "https://localhost:8080/",
     "height": 298
    },
    "id": "8AEs_D7hPPj2",
    "outputId": "89556761-8a79-4490-95e9-165e0f9dd9cc"
   },
   "outputs": [
    {
     "data": {
      "text/plain": [
       "[<matplotlib.lines.Line2D at 0x7f2f8e5a9510>]"
      ]
     },
     "execution_count": 21,
     "metadata": {
      "tags": []
     },
     "output_type": "execute_result"
    },
    {
     "data": {
      "image/png": "[encoded data removed]",
      "text/plain": [
       "<Figure size 432x288 with 1 Axes>"
      ]
     },
     "metadata": {
      "needs_background": "light",
      "tags": []
     },
     "output_type": "display_data"
    }
   ],
   "source": [
    "plt.title(\"Classification Accuracy\")\n",
    "plt.plot(history.history[\"accuracy\"], color=\"blue\", label=\"train\")\n",
    "plt.plot(history.history[\"val_accuracy\"], color=\"orange\", label=\"test\")\n"
   ]
  },
  {
   "cell_type": "markdown",
   "metadata": {
    "id": "jcBkvHhiPxB6"
   },
   "source": [
    "You can see test Acuracy is 71 but train acuracy is 85 so our model is moving thowrsd overfit"
   ]
  },
  {
   "cell_type": "markdown",
   "metadata": {
    "id": "N2D4lSh7QBRV"
   },
   "source": [
    "Let's Use Dropout"
   ]
  },
  {
   "cell_type": "code",
   "execution_count": null,
   "metadata": {
    "id": "KFdB3mdfvwBa"
   },
   "outputs": [],
   "source": []
  },
  {
   "cell_type": "code",
   "execution_count": null,
   "metadata": {
    "id": "JAmRuwYHQoNx"
   },
   "outputs": [],
   "source": [
    "from keras.layers import Dropout"
   ]
  },
  {
   "cell_type": "code",
   "execution_count": null,
   "metadata": {
    "id": "eQfe2q5PPSmk"
   },
   "outputs": [],
   "source": [
    "model=Sequential()\n",
    "model.add(Conv2D(32,(3,3),activation=\"relu\",padding=\"same\",kernel_initializer=\"he_uniform\",input_shape=(32, 32, 3)))\n",
    "model.add(Conv2D(32, (3, 3), activation=\"relu\", kernel_initializer=\"he_uniform\",\n",
    "padding=\"same\"))\n",
    "model.add(MaxPooling2D((2, 2)))\n",
    "model.add(Dropout(0.4))\n",
    "model.add(Conv2D(64, (3, 3), activation=\"relu\", kernel_initializer=\"he_uniform\",\n",
    "padding=\"same\"))\n",
    "model.add(Conv2D(64, (3, 3), activation=\"relu\", kernel_initializer=\"he_uniform\",\n",
    "padding=\"same\"))\n",
    "model.add(MaxPooling2D((2, 2)))\n",
    "model.add(Dropout(0.4))\n",
    "model.add(Conv2D(128, (3, 3), activation=\"relu\", kernel_initializer=\"he_uniform\",\n",
    "padding=\"same\"))\n",
    "model.add(Conv2D(128, (3, 3), activation=\"relu\", kernel_initializer=\"he_uniform\",\n",
    "padding=\"same\"))\n",
    "model.add(MaxPooling2D((2, 2)))\n",
    "model.add(Dropout(0.4))\n",
    "model.add(Flatten())\n",
    "model.add(Dense(128, activation=\"relu\", kernel_initializer=\"he_uniform\"))\n",
    "model.add(Dense(10, activation=\"softmax\"))"
   ]
  },
  {
   "cell_type": "code",
   "execution_count": null,
   "metadata": {
    "id": "hWHdYcXpRp2f"
   },
   "outputs": [],
   "source": [
    "# example output part of the model\n",
    "opt = SGD(lr=0.001, momentum=0.9)\n",
    "model.compile(optimizer=opt, loss=\"categorical_crossentropy\", metrics=[\"accuracy\"])"
   ]
  },
  {
   "cell_type": "code",
   "execution_count": null,
   "metadata": {
    "colab": {
     "base_uri": "https://localhost:8080/"
    },
    "id": "af_Sg0OaRtgY",
    "outputId": "4b171b9a-3733-43f0-f814-cb123ceab075"
   },
   "outputs": [
    {
     "name": "stdout",
     "output_type": "stream",
     "text": [
      "Model: \"sequential_3\"\n",
      "_________________________________________________________________\n",
      "Layer (type)                 Output Shape              Param #   \n",
      "=================================================================\n",
      "conv2d_10 (Conv2D)           (None, 32, 32, 32)        896       \n",
      "_________________________________________________________________\n",
      "conv2d_11 (Conv2D)           (None, 32, 32, 32)        9248      \n",
      "_________________________________________________________________\n",
      "max_pooling2d_7 (MaxPooling2 (None, 16, 16, 32)        0         \n",
      "_________________________________________________________________\n",
      "dropout (Dropout)            (None, 16, 16, 32)        0         \n",
      "_________________________________________________________________\n",
      "conv2d_12 (Conv2D)           (None, 16, 16, 64)        18496     \n",
      "_________________________________________________________________\n",
      "conv2d_13 (Conv2D)           (None, 16, 16, 64)        36928     \n",
      "_________________________________________________________________\n",
      "max_pooling2d_8 (MaxPooling2 (None, 8, 8, 64)          0         \n",
      "_________________________________________________________________\n",
      "dropout_1 (Dropout)          (None, 8, 8, 64)          0         \n",
      "_________________________________________________________________\n",
      "conv2d_14 (Conv2D)           (None, 8, 8, 128)         73856     \n",
      "_________________________________________________________________\n",
      "conv2d_15 (Conv2D)           (None, 8, 8, 128)         147584    \n",
      "_________________________________________________________________\n",
      "max_pooling2d_9 (MaxPooling2 (None, 4, 4, 128)         0         \n",
      "_________________________________________________________________\n",
      "dropout_2 (Dropout)          (None, 4, 4, 128)         0         \n",
      "_________________________________________________________________\n",
      "flatten_3 (Flatten)          (None, 2048)              0         \n",
      "_________________________________________________________________\n",
      "dense_6 (Dense)              (None, 128)               262272    \n",
      "_________________________________________________________________\n",
      "dense_7 (Dense)              (None, 10)                1290      \n",
      "=================================================================\n",
      "Total params: 550,570\n",
      "Trainable params: 550,570\n",
      "Non-trainable params: 0\n",
      "_________________________________________________________________\n"
     ]
    }
   ],
   "source": [
    "model.summary()"
   ]
  },
  {
   "cell_type": "code",
   "execution_count": null,
   "metadata": {
    "colab": {
     "base_uri": "https://localhost:8080/"
    },
    "id": "XntLyLg_QQk4",
    "outputId": "14896f30-3e01-4d1e-ae44-a48fa7d0cd69"
   },
   "outputs": [
    {
     "name": "stdout",
     "output_type": "stream",
     "text": [
      "Epoch 1/20\n",
      "782/782 [==============================] - 7s 9ms/step - loss: 2.3180 - accuracy: 0.1423 - val_loss: 1.8814 - val_accuracy: 0.3391\n",
      "Epoch 2/20\n",
      "782/782 [==============================] - 7s 8ms/step - loss: 1.8412 - accuracy: 0.3181 - val_loss: 1.6875 - val_accuracy: 0.3863\n",
      "Epoch 3/20\n",
      "782/782 [==============================] - 7s 8ms/step - loss: 1.6713 - accuracy: 0.3741 - val_loss: 1.5306 - val_accuracy: 0.4441\n",
      "Epoch 4/20\n",
      "782/782 [==============================] - 7s 8ms/step - loss: 1.5407 - accuracy: 0.4274 - val_loss: 1.4550 - val_accuracy: 0.4743\n",
      "Epoch 5/20\n",
      "782/782 [==============================] - 7s 8ms/step - loss: 1.4632 - accuracy: 0.4615 - val_loss: 1.3546 - val_accuracy: 0.5109\n",
      "Epoch 6/20\n",
      "782/782 [==============================] - 6s 8ms/step - loss: 1.4073 - accuracy: 0.4847 - val_loss: 1.2975 - val_accuracy: 0.5344\n",
      "Epoch 7/20\n",
      "782/782 [==============================] - 6s 8ms/step - loss: 1.3521 - accuracy: 0.5055 - val_loss: 1.2919 - val_accuracy: 0.5290\n",
      "Epoch 8/20\n",
      "782/782 [==============================] - 6s 8ms/step - loss: 1.3040 - accuracy: 0.5286 - val_loss: 1.2090 - val_accuracy: 0.5654\n",
      "Epoch 9/20\n",
      "782/782 [==============================] - 6s 8ms/step - loss: 1.2555 - accuracy: 0.5474 - val_loss: 1.1506 - val_accuracy: 0.5947\n",
      "Epoch 10/20\n",
      "782/782 [==============================] - 6s 8ms/step - loss: 1.1999 - accuracy: 0.5671 - val_loss: 1.1379 - val_accuracy: 0.5992\n",
      "Epoch 11/20\n",
      "782/782 [==============================] - 6s 8ms/step - loss: 1.1646 - accuracy: 0.5786 - val_loss: 1.0843 - val_accuracy: 0.6155\n",
      "Epoch 12/20\n",
      "782/782 [==============================] - 6s 8ms/step - loss: 1.1294 - accuracy: 0.5929 - val_loss: 1.0363 - val_accuracy: 0.6317\n",
      "Epoch 13/20\n",
      "782/782 [==============================] - 7s 8ms/step - loss: 1.0949 - accuracy: 0.6062 - val_loss: 1.1020 - val_accuracy: 0.6040\n",
      "Epoch 14/20\n",
      "782/782 [==============================] - 6s 8ms/step - loss: 1.0661 - accuracy: 0.6215 - val_loss: 1.0788 - val_accuracy: 0.6129\n",
      "Epoch 15/20\n",
      "782/782 [==============================] - 6s 8ms/step - loss: 1.0477 - accuracy: 0.6230 - val_loss: 0.9621 - val_accuracy: 0.6570\n",
      "Epoch 16/20\n",
      "782/782 [==============================] - 6s 8ms/step - loss: 1.0166 - accuracy: 0.6360 - val_loss: 0.9115 - val_accuracy: 0.6741\n",
      "Epoch 17/20\n",
      "782/782 [==============================] - 6s 8ms/step - loss: 1.0047 - accuracy: 0.6408 - val_loss: 0.9329 - val_accuracy: 0.6616\n",
      "Epoch 18/20\n",
      "782/782 [==============================] - 6s 8ms/step - loss: 0.9921 - accuracy: 0.6434 - val_loss: 0.9306 - val_accuracy: 0.6636\n",
      "Epoch 19/20\n",
      "782/782 [==============================] - 6s 8ms/step - loss: 0.9690 - accuracy: 0.6547 - val_loss: 0.9181 - val_accuracy: 0.6727\n",
      "Epoch 20/20\n",
      "782/782 [==============================] - 6s 8ms/step - loss: 0.9436 - accuracy: 0.6633 - val_loss: 0.9323 - val_accuracy: 0.6642\n"
     ]
    }
   ],
   "source": [
    "history=model.fit(train_norm, trainY, epochs=20, batch_size=64, validation_data=(test_norm, testY), verbose=1)"
   ]
  },
  {
   "cell_type": "code",
   "execution_count": null,
   "metadata": {
    "colab": {
     "base_uri": "https://localhost:8080/",
     "height": 180
    },
    "id": "s9HONkKuQs5K",
    "outputId": "bbe2f46b-9cec-443b-8bd8-6f27daa8b4bd"
   },
   "outputs": [
    {
     "data": {
      "text/plain": [
       "[<matplotlib.lines.Line2D at 0x7f2f8e326e10>]"
      ]
     },
     "execution_count": 28,
     "metadata": {
      "tags": []
     },
     "output_type": "execute_result"
    },
    {
     "data": {
      "image/png": "[encoded data removed]",
      "text/plain": [
       "<Figure size 432x288 with 1 Axes>"
      ]
     },
     "metadata": {
      "needs_background": "light",
      "tags": []
     },
     "output_type": "display_data"
    }
   ],
   "source": [
    "import matplotlib.pyplot as plt\n",
    "\n",
    "plt.subplot(211)\n",
    "plt.title(\"Cross Entropy Loss\")\n",
    "plt.plot(history.history[\"loss\"], color=\"blue\", label=\"train\")\n",
    "plt.plot(history.history[\"val_loss\"], color=\"orange\", label=\"test\")"
   ]
  },
  {
   "cell_type": "code",
   "execution_count": null,
   "metadata": {
    "colab": {
     "base_uri": "https://localhost:8080/",
     "height": 298
    },
    "id": "Tsd10A3jRByw",
    "outputId": "5bc48b7e-b957-4a6a-af65-65769601032e"
   },
   "outputs": [
    {
     "data": {
      "text/plain": [
       "[<matplotlib.lines.Line2D at 0x7f2fd0385a10>]"
      ]
     },
     "execution_count": 29,
     "metadata": {
      "tags": []
     },
     "output_type": "execute_result"
    },
    {
     "data": {
      "image/png": "[encoded data removed]",
      "text/plain": [
       "<Figure size 432x288 with 1 Axes>"
      ]
     },
     "metadata": {
      "needs_background": "light",
      "tags": []
     },
     "output_type": "display_data"
    }
   ],
   "source": [
    "plt.title(\"Classification Accuracy\")\n",
    "plt.plot(history.history[\"accuracy\"], color=\"blue\", label=\"train\")\n",
    "plt.plot(history.history[\"val_accuracy\"], color=\"orange\", label=\"test\")\n"
   ]
  },
  {
   "cell_type": "markdown",
   "metadata": {
    "id": "kv8aZifWAN8i"
   },
   "source": [
    "Our Model is not overfit so we can increase number of epocs"
   ]
  },
  {
   "cell_type": "code",
   "execution_count": null,
   "metadata": {
    "colab": {
     "base_uri": "https://localhost:8080/"
    },
    "id": "UtsQhinTAV9b",
    "outputId": "81de9e9e-7dfb-4998-bd38-c12f28f53aab"
   },
   "outputs": [
    {
     "name": "stdout",
     "output_type": "stream",
     "text": [
      "Epoch 1/100\n",
      "782/782 [==============================] - 7s 8ms/step - loss: 0.9223 - accuracy: 0.6721 - val_loss: 0.8841 - val_accuracy: 0.6846\n",
      "Epoch 2/100\n",
      "782/782 [==============================] - 6s 8ms/step - loss: 0.9050 - accuracy: 0.6764 - val_loss: 0.8455 - val_accuracy: 0.6997\n",
      "Epoch 3/100\n",
      "782/782 [==============================] - 6s 8ms/step - loss: 0.8983 - accuracy: 0.6801 - val_loss: 0.8286 - val_accuracy: 0.7062\n",
      "Epoch 4/100\n",
      "782/782 [==============================] - 6s 8ms/step - loss: 0.8773 - accuracy: 0.6871 - val_loss: 0.8566 - val_accuracy: 0.6983\n",
      "Epoch 5/100\n",
      "782/782 [==============================] - 6s 8ms/step - loss: 0.8700 - accuracy: 0.6907 - val_loss: 0.8212 - val_accuracy: 0.7105\n",
      "Epoch 6/100\n",
      "782/782 [==============================] - 6s 8ms/step - loss: 0.8484 - accuracy: 0.6958 - val_loss: 0.7823 - val_accuracy: 0.7225\n",
      "Epoch 7/100\n",
      "782/782 [==============================] - 6s 8ms/step - loss: 0.8385 - accuracy: 0.7007 - val_loss: 0.7957 - val_accuracy: 0.7180\n",
      "Epoch 8/100\n",
      "782/782 [==============================] - 6s 8ms/step - loss: 0.8301 - accuracy: 0.7045 - val_loss: 0.7604 - val_accuracy: 0.7312\n",
      "Epoch 9/100\n",
      "782/782 [==============================] - 6s 8ms/step - loss: 0.8122 - accuracy: 0.7086 - val_loss: 0.7604 - val_accuracy: 0.7295\n",
      "Epoch 10/100\n",
      "782/782 [==============================] - 6s 8ms/step - loss: 0.8063 - accuracy: 0.7141 - val_loss: 0.7339 - val_accuracy: 0.7365\n",
      "Epoch 11/100\n",
      "782/782 [==============================] - 6s 8ms/step - loss: 0.7929 - accuracy: 0.7187 - val_loss: 0.7494 - val_accuracy: 0.7376\n",
      "Epoch 12/100\n",
      "782/782 [==============================] - 6s 8ms/step - loss: 0.7813 - accuracy: 0.7223 - val_loss: 0.7584 - val_accuracy: 0.7320\n",
      "Epoch 13/100\n",
      "782/782 [==============================] - 6s 8ms/step - loss: 0.7726 - accuracy: 0.7239 - val_loss: 0.7012 - val_accuracy: 0.7559\n",
      "Epoch 14/100\n",
      "782/782 [==============================] - 7s 8ms/step - loss: 0.7611 - accuracy: 0.7284 - val_loss: 0.6981 - val_accuracy: 0.7555\n",
      "Epoch 15/100\n",
      "782/782 [==============================] - 6s 8ms/step - loss: 0.7512 - accuracy: 0.7321 - val_loss: 0.7196 - val_accuracy: 0.7469\n",
      "Epoch 16/100\n",
      "782/782 [==============================] - 6s 8ms/step - loss: 0.7431 - accuracy: 0.7371 - val_loss: 0.6872 - val_accuracy: 0.7534\n",
      "Epoch 17/100\n",
      "782/782 [==============================] - 6s 8ms/step - loss: 0.7380 - accuracy: 0.7391 - val_loss: 0.6823 - val_accuracy: 0.7592\n",
      "Epoch 18/100\n",
      "782/782 [==============================] - 6s 8ms/step - loss: 0.7306 - accuracy: 0.7409 - val_loss: 0.6810 - val_accuracy: 0.7640\n",
      "Epoch 19/100\n",
      "782/782 [==============================] - 6s 8ms/step - loss: 0.7188 - accuracy: 0.7461 - val_loss: 0.6783 - val_accuracy: 0.7649\n",
      "Epoch 20/100\n",
      "782/782 [==============================] - 6s 8ms/step - loss: 0.7099 - accuracy: 0.7468 - val_loss: 0.6899 - val_accuracy: 0.7596\n",
      "Epoch 21/100\n",
      "782/782 [==============================] - 6s 8ms/step - loss: 0.7070 - accuracy: 0.7472 - val_loss: 0.6806 - val_accuracy: 0.7633\n",
      "Epoch 22/100\n",
      "782/782 [==============================] - 6s 8ms/step - loss: 0.6970 - accuracy: 0.7529 - val_loss: 0.6608 - val_accuracy: 0.7704\n",
      "Epoch 23/100\n",
      "782/782 [==============================] - 6s 8ms/step - loss: 0.6908 - accuracy: 0.7550 - val_loss: 0.6526 - val_accuracy: 0.7705\n",
      "Epoch 24/100\n",
      "782/782 [==============================] - 6s 8ms/step - loss: 0.6855 - accuracy: 0.7573 - val_loss: 0.6552 - val_accuracy: 0.7719\n",
      "Epoch 25/100\n",
      "782/782 [==============================] - 6s 8ms/step - loss: 0.6816 - accuracy: 0.7595 - val_loss: 0.6471 - val_accuracy: 0.7770\n",
      "Epoch 26/100\n",
      "782/782 [==============================] - 6s 8ms/step - loss: 0.6714 - accuracy: 0.7612 - val_loss: 0.6567 - val_accuracy: 0.7711\n",
      "Epoch 27/100\n",
      "782/782 [==============================] - 6s 8ms/step - loss: 0.6589 - accuracy: 0.7641 - val_loss: 0.6483 - val_accuracy: 0.7757\n",
      "Epoch 28/100\n",
      "782/782 [==============================] - 6s 8ms/step - loss: 0.6580 - accuracy: 0.7658 - val_loss: 0.7167 - val_accuracy: 0.7464\n",
      "Epoch 29/100\n",
      "782/782 [==============================] - 6s 8ms/step - loss: 0.6574 - accuracy: 0.7659 - val_loss: 0.6389 - val_accuracy: 0.7779\n",
      "Epoch 30/100\n",
      "782/782 [==============================] - 6s 8ms/step - loss: 0.6471 - accuracy: 0.7698 - val_loss: 0.6176 - val_accuracy: 0.7810\n",
      "Epoch 31/100\n",
      "782/782 [==============================] - 6s 8ms/step - loss: 0.6442 - accuracy: 0.7701 - val_loss: 0.6161 - val_accuracy: 0.7836\n",
      "Epoch 32/100\n",
      "782/782 [==============================] - 6s 8ms/step - loss: 0.6412 - accuracy: 0.7725 - val_loss: 0.6130 - val_accuracy: 0.7846\n",
      "Epoch 33/100\n",
      "782/782 [==============================] - 6s 8ms/step - loss: 0.6295 - accuracy: 0.7765 - val_loss: 0.6441 - val_accuracy: 0.7815\n",
      "Epoch 34/100\n",
      "782/782 [==============================] - 6s 8ms/step - loss: 0.6241 - accuracy: 0.7783 - val_loss: 0.5991 - val_accuracy: 0.7892\n",
      "Epoch 35/100\n",
      "782/782 [==============================] - 6s 8ms/step - loss: 0.6165 - accuracy: 0.7800 - val_loss: 0.6191 - val_accuracy: 0.7835\n",
      "Epoch 36/100\n",
      "782/782 [==============================] - 6s 8ms/step - loss: 0.6165 - accuracy: 0.7822 - val_loss: 0.6314 - val_accuracy: 0.7822\n",
      "Epoch 37/100\n",
      "782/782 [==============================] - 6s 8ms/step - loss: 0.6100 - accuracy: 0.7817 - val_loss: 0.6104 - val_accuracy: 0.7914\n",
      "Epoch 38/100\n",
      "782/782 [==============================] - 6s 8ms/step - loss: 0.6056 - accuracy: 0.7862 - val_loss: 0.6040 - val_accuracy: 0.7924\n",
      "Epoch 39/100\n",
      "782/782 [==============================] - 6s 8ms/step - loss: 0.6011 - accuracy: 0.7866 - val_loss: 0.6178 - val_accuracy: 0.7885\n",
      "Epoch 40/100\n",
      "782/782 [==============================] - 6s 8ms/step - loss: 0.5949 - accuracy: 0.7898 - val_loss: 0.5993 - val_accuracy: 0.7924\n",
      "Epoch 41/100\n",
      "782/782 [==============================] - 6s 8ms/step - loss: 0.5898 - accuracy: 0.7894 - val_loss: 0.6003 - val_accuracy: 0.7916\n",
      "Epoch 42/100\n",
      "782/782 [==============================] - 6s 8ms/step - loss: 0.5844 - accuracy: 0.7926 - val_loss: 0.5942 - val_accuracy: 0.7952\n",
      "Epoch 43/100\n",
      "782/782 [==============================] - 6s 8ms/step - loss: 0.5858 - accuracy: 0.7910 - val_loss: 0.5742 - val_accuracy: 0.8006\n",
      "Epoch 44/100\n",
      "782/782 [==============================] - 6s 8ms/step - loss: 0.5771 - accuracy: 0.7958 - val_loss: 0.5714 - val_accuracy: 0.8020\n",
      "Epoch 45/100\n",
      "782/782 [==============================] - 6s 8ms/step - loss: 0.5704 - accuracy: 0.7950 - val_loss: 0.5725 - val_accuracy: 0.8022\n",
      "Epoch 46/100\n",
      "782/782 [==============================] - 6s 8ms/step - loss: 0.5640 - accuracy: 0.8001 - val_loss: 0.5725 - val_accuracy: 0.8019\n",
      "Epoch 47/100\n",
      "782/782 [==============================] - 6s 8ms/step - loss: 0.5668 - accuracy: 0.7970 - val_loss: 0.5785 - val_accuracy: 0.8012\n",
      "Epoch 48/100\n",
      "782/782 [==============================] - 6s 8ms/step - loss: 0.5558 - accuracy: 0.8024 - val_loss: 0.5805 - val_accuracy: 0.8039\n",
      "Epoch 49/100\n",
      "782/782 [==============================] - 7s 8ms/step - loss: 0.5566 - accuracy: 0.7997 - val_loss: 0.5705 - val_accuracy: 0.8036\n",
      "Epoch 50/100\n",
      "782/782 [==============================] - 7s 8ms/step - loss: 0.5530 - accuracy: 0.8040 - val_loss: 0.5681 - val_accuracy: 0.8069\n",
      "Epoch 51/100\n",
      "782/782 [==============================] - 6s 8ms/step - loss: 0.5429 - accuracy: 0.8071 - val_loss: 0.5569 - val_accuracy: 0.8068\n",
      "Epoch 52/100\n",
      "782/782 [==============================] - 6s 8ms/step - loss: 0.5384 - accuracy: 0.8088 - val_loss: 0.5804 - val_accuracy: 0.8014\n",
      "Epoch 53/100\n",
      "782/782 [==============================] - 6s 8ms/step - loss: 0.5379 - accuracy: 0.8080 - val_loss: 0.5918 - val_accuracy: 0.7988\n",
      "Epoch 54/100\n",
      "782/782 [==============================] - 6s 8ms/step - loss: 0.5343 - accuracy: 0.8088 - val_loss: 0.5684 - val_accuracy: 0.8084\n",
      "Epoch 55/100\n",
      "782/782 [==============================] - 6s 8ms/step - loss: 0.5324 - accuracy: 0.8113 - val_loss: 0.5434 - val_accuracy: 0.8131\n",
      "Epoch 56/100\n",
      "782/782 [==============================] - 6s 8ms/step - loss: 0.5257 - accuracy: 0.8124 - val_loss: 0.5580 - val_accuracy: 0.8094\n",
      "Epoch 57/100\n",
      "782/782 [==============================] - 6s 8ms/step - loss: 0.5226 - accuracy: 0.8137 - val_loss: 0.5423 - val_accuracy: 0.8157\n",
      "Epoch 58/100\n",
      "782/782 [==============================] - 6s 8ms/step - loss: 0.5205 - accuracy: 0.8133 - val_loss: 0.5603 - val_accuracy: 0.8108\n",
      "Epoch 59/100\n",
      "782/782 [==============================] - 6s 8ms/step - loss: 0.5156 - accuracy: 0.8162 - val_loss: 0.5797 - val_accuracy: 0.8051\n",
      "Epoch 60/100\n",
      "782/782 [==============================] - 7s 8ms/step - loss: 0.5110 - accuracy: 0.8178 - val_loss: 0.5654 - val_accuracy: 0.8099\n",
      "Epoch 61/100\n",
      "782/782 [==============================] - 6s 8ms/step - loss: 0.5070 - accuracy: 0.8195 - val_loss: 0.5591 - val_accuracy: 0.8085\n",
      "Epoch 62/100\n",
      "782/782 [==============================] - 7s 8ms/step - loss: 0.5062 - accuracy: 0.8191 - val_loss: 0.5732 - val_accuracy: 0.8082\n",
      "Epoch 63/100\n",
      "782/782 [==============================] - 7s 8ms/step - loss: 0.5036 - accuracy: 0.8199 - val_loss: 0.5237 - val_accuracy: 0.8206\n",
      "Epoch 64/100\n",
      "782/782 [==============================] - 6s 8ms/step - loss: 0.4948 - accuracy: 0.8248 - val_loss: 0.5486 - val_accuracy: 0.8122\n",
      "Epoch 65/100\n",
      "782/782 [==============================] - 6s 8ms/step - loss: 0.4917 - accuracy: 0.8252 - val_loss: 0.5762 - val_accuracy: 0.8107\n",
      "Epoch 66/100\n",
      "782/782 [==============================] - 6s 8ms/step - loss: 0.4892 - accuracy: 0.8252 - val_loss: 0.5372 - val_accuracy: 0.8184\n",
      "Epoch 67/100\n",
      "782/782 [==============================] - 6s 8ms/step - loss: 0.4869 - accuracy: 0.8274 - val_loss: 0.5478 - val_accuracy: 0.8141\n",
      "Epoch 68/100\n",
      "782/782 [==============================] - 6s 8ms/step - loss: 0.4823 - accuracy: 0.8292 - val_loss: 0.5636 - val_accuracy: 0.8113\n",
      "Epoch 69/100\n",
      "782/782 [==============================] - 6s 8ms/step - loss: 0.4801 - accuracy: 0.8287 - val_loss: 0.5522 - val_accuracy: 0.8122\n",
      "Epoch 70/100\n",
      "782/782 [==============================] - 6s 8ms/step - loss: 0.4805 - accuracy: 0.8284 - val_loss: 0.5401 - val_accuracy: 0.8173\n",
      "Epoch 71/100\n",
      "782/782 [==============================] - 6s 8ms/step - loss: 0.4779 - accuracy: 0.8295 - val_loss: 0.5253 - val_accuracy: 0.8220\n",
      "Epoch 72/100\n",
      "782/782 [==============================] - 7s 8ms/step - loss: 0.4724 - accuracy: 0.8317 - val_loss: 0.5498 - val_accuracy: 0.8133\n",
      "Epoch 73/100\n",
      "782/782 [==============================] - 6s 8ms/step - loss: 0.4671 - accuracy: 0.8328 - val_loss: 0.5575 - val_accuracy: 0.8130\n",
      "Epoch 74/100\n",
      "782/782 [==============================] - 6s 8ms/step - loss: 0.4632 - accuracy: 0.8340 - val_loss: 0.5217 - val_accuracy: 0.8200\n",
      "Epoch 75/100\n",
      "782/782 [==============================] - 6s 8ms/step - loss: 0.4644 - accuracy: 0.8335 - val_loss: 0.5276 - val_accuracy: 0.8198\n",
      "Epoch 76/100\n",
      "782/782 [==============================] - 6s 8ms/step - loss: 0.4594 - accuracy: 0.8344 - val_loss: 0.5307 - val_accuracy: 0.8215\n",
      "Epoch 77/100\n",
      "782/782 [==============================] - 7s 8ms/step - loss: 0.4551 - accuracy: 0.8361 - val_loss: 0.5254 - val_accuracy: 0.8201\n",
      "Epoch 78/100\n",
      "782/782 [==============================] - 7s 8ms/step - loss: 0.4504 - accuracy: 0.8403 - val_loss: 0.5434 - val_accuracy: 0.8205\n",
      "Epoch 79/100\n",
      "782/782 [==============================] - 7s 8ms/step - loss: 0.4479 - accuracy: 0.8391 - val_loss: 0.5234 - val_accuracy: 0.8227\n",
      "Epoch 80/100\n",
      "782/782 [==============================] - 6s 8ms/step - loss: 0.4443 - accuracy: 0.8410 - val_loss: 0.5273 - val_accuracy: 0.8230\n",
      "Epoch 81/100\n",
      "782/782 [==============================] - 6s 8ms/step - loss: 0.4424 - accuracy: 0.8416 - val_loss: 0.5206 - val_accuracy: 0.8235\n",
      "Epoch 82/100\n",
      "782/782 [==============================] - 6s 8ms/step - loss: 0.4374 - accuracy: 0.8432 - val_loss: 0.5284 - val_accuracy: 0.8199\n",
      "Epoch 83/100\n",
      "782/782 [==============================] - 7s 8ms/step - loss: 0.4397 - accuracy: 0.8424 - val_loss: 0.5249 - val_accuracy: 0.8226\n",
      "Epoch 84/100\n",
      "782/782 [==============================] - 6s 8ms/step - loss: 0.4308 - accuracy: 0.8469 - val_loss: 0.5340 - val_accuracy: 0.8229\n",
      "Epoch 85/100\n",
      "782/782 [==============================] - 6s 8ms/step - loss: 0.4337 - accuracy: 0.8451 - val_loss: 0.5261 - val_accuracy: 0.8212\n",
      "Epoch 86/100\n",
      "782/782 [==============================] - 6s 8ms/step - loss: 0.4287 - accuracy: 0.8475 - val_loss: 0.5264 - val_accuracy: 0.8233\n",
      "Epoch 87/100\n",
      "782/782 [==============================] - 7s 8ms/step - loss: 0.4227 - accuracy: 0.8492 - val_loss: 0.5131 - val_accuracy: 0.8261\n",
      "Epoch 88/100\n",
      "782/782 [==============================] - 7s 8ms/step - loss: 0.4248 - accuracy: 0.8474 - val_loss: 0.5189 - val_accuracy: 0.8277\n",
      "Epoch 89/100\n",
      "782/782 [==============================] - 7s 8ms/step - loss: 0.4177 - accuracy: 0.8512 - val_loss: 0.5250 - val_accuracy: 0.8265\n",
      "Epoch 90/100\n",
      "782/782 [==============================] - 6s 8ms/step - loss: 0.4193 - accuracy: 0.8506 - val_loss: 0.5141 - val_accuracy: 0.8284\n",
      "Epoch 91/100\n",
      "782/782 [==============================] - 7s 8ms/step - loss: 0.4157 - accuracy: 0.8499 - val_loss: 0.5243 - val_accuracy: 0.8243\n",
      "Epoch 92/100\n",
      "782/782 [==============================] - 7s 8ms/step - loss: 0.4120 - accuracy: 0.8518 - val_loss: 0.5200 - val_accuracy: 0.8258\n",
      "Epoch 93/100\n",
      "782/782 [==============================] - 7s 8ms/step - loss: 0.4080 - accuracy: 0.8542 - val_loss: 0.5103 - val_accuracy: 0.8307\n",
      "Epoch 94/100\n",
      "782/782 [==============================] - 7s 8ms/step - loss: 0.4034 - accuracy: 0.8544 - val_loss: 0.5051 - val_accuracy: 0.8304\n",
      "Epoch 95/100\n",
      "782/782 [==============================] - 7s 8ms/step - loss: 0.4009 - accuracy: 0.8550 - val_loss: 0.5295 - val_accuracy: 0.8268\n",
      "Epoch 96/100\n",
      "782/782 [==============================] - 7s 8ms/step - loss: 0.4044 - accuracy: 0.8557 - val_loss: 0.5108 - val_accuracy: 0.8287\n",
      "Epoch 97/100\n",
      "782/782 [==============================] - 7s 8ms/step - loss: 0.3986 - accuracy: 0.8565 - val_loss: 0.5084 - val_accuracy: 0.8321\n",
      "Epoch 98/100\n",
      "782/782 [==============================] - 7s 8ms/step - loss: 0.3961 - accuracy: 0.8582 - val_loss: 0.5163 - val_accuracy: 0.8266\n",
      "Epoch 99/100\n",
      "782/782 [==============================] - 6s 8ms/step - loss: 0.3971 - accuracy: 0.8567 - val_loss: 0.5203 - val_accuracy: 0.8293\n",
      "Epoch 100/100\n",
      "782/782 [==============================] - 7s 8ms/step - loss: 0.3916 - accuracy: 0.8589 - val_loss: 0.5233 - val_accuracy: 0.8267\n"
     ]
    }
   ],
   "source": [
    "history=model.fit(train_norm, trainY, epochs=100, batch_size=64, validation_data=(test_norm, testY), verbose=1)"
   ]
  },
  {
   "cell_type": "code",
   "execution_count": null,
   "metadata": {
    "colab": {
     "base_uri": "https://localhost:8080/",
     "height": 180
    },
    "id": "UjS9wQgCAbzY",
    "outputId": "e33064f8-32bc-4997-d6f4-bc074a04e051"
   },
   "outputs": [
    {
     "data": {
      "text/plain": [
       "[<matplotlib.lines.Line2D at 0x7f2f9613bad0>]"
      ]
     },
     "execution_count": 31,
     "metadata": {
      "tags": []
     },
     "output_type": "execute_result"
    },
    {
     "data": {
      "image/png": "[encoded data removed]",
      "text/plain": [
       "<Figure size 432x288 with 1 Axes>"
      ]
     },
     "metadata": {
      "needs_background": "light",
      "tags": []
     },
     "output_type": "display_data"
    }
   ],
   "source": [
    "import matplotlib.pyplot as plt\n",
    "\n",
    "plt.subplot(211)\n",
    "plt.title(\"Cross Entropy Loss\")\n",
    "plt.plot(history.history[\"loss\"], color=\"blue\", label=\"train\")\n",
    "plt.plot(history.history[\"val_loss\"], color=\"orange\", label=\"test\")"
   ]
  },
  {
   "cell_type": "code",
   "execution_count": null,
   "metadata": {
    "colab": {
     "base_uri": "https://localhost:8080/",
     "height": 298
    },
    "id": "MHvVqe1TAbou",
    "outputId": "933a5b15-89b6-444d-933e-df7912152e30"
   },
   "outputs": [
    {
     "data": {
      "text/plain": [
       "[<matplotlib.lines.Line2D at 0x7f2fd01e46d0>]"
      ]
     },
     "execution_count": 32,
     "metadata": {
      "tags": []
     },
     "output_type": "execute_result"
    },
    {
     "data": {
      "image/png": "[encoded data removed]",
      "text/plain": [
       "<Figure size 432x288 with 1 Axes>"
      ]
     },
     "metadata": {
      "needs_background": "light",
      "tags": []
     },
     "output_type": "display_data"
    }
   ],
   "source": [
    "plt.title(\"Classification Accuracy\")\n",
    "plt.plot(history.history[\"accuracy\"], color=\"blue\", label=\"train\")\n",
    "plt.plot(history.history[\"val_accuracy\"], color=\"orange\", label=\"test\")\n"
   ]
  },
  {
   "cell_type": "markdown",
   "metadata": {
    "id": "auz1VdOASbA2"
   },
   "source": [
    "Now you can see there is no overfitting"
   ]
  },
  {
   "cell_type": "code",
   "execution_count": null,
   "metadata": {
    "id": "7jp-41_zSZE7"
   },
   "outputs": [],
   "source": []
  },
  {
   "cell_type": "code",
   "execution_count": null,
   "metadata": {
    "id": "aZjfKne2SpSP"
   },
   "outputs": [],
   "source": []
  },
  {
   "cell_type": "markdown",
   "metadata": {
    "id": "CC2rrSupSs7h"
   },
   "source": [
    "Let's Use the Data Augmentation also"
   ]
  },
  {
   "cell_type": "code",
   "execution_count": null,
   "metadata": {
    "id": "sBNOnGAeTFMM"
   },
   "outputs": [],
   "source": [
    "model=Sequential()\n",
    "model.add(Conv2D(32,(3,3),activation=\"relu\",padding=\"same\",kernel_initializer=\"he_uniform\",input_shape=(32, 32, 3)))\n",
    "model.add(Conv2D(32, (3, 3), activation=\"relu\", kernel_initializer=\"he_uniform\",\n",
    "padding=\"same\"))\n",
    "model.add(MaxPooling2D((2, 2)))\n",
    "model.add(Dropout(0.4))\n",
    "model.add(Conv2D(64, (3, 3), activation=\"relu\", kernel_initializer=\"he_uniform\",\n",
    "padding=\"same\"))\n",
    "model.add(Conv2D(64, (3, 3), activation=\"relu\", kernel_initializer=\"he_uniform\",\n",
    "padding=\"same\"))\n",
    "model.add(MaxPooling2D((2, 2)))\n",
    "model.add(Dropout(0.4))\n",
    "model.add(Conv2D(128, (3, 3), activation=\"relu\", kernel_initializer=\"he_uniform\",\n",
    "padding=\"same\"))\n",
    "model.add(Conv2D(128, (3, 3), activation=\"relu\", kernel_initializer=\"he_uniform\",\n",
    "padding=\"same\"))\n",
    "model.add(MaxPooling2D((2, 2)))\n",
    "model.add(Dropout(0.4))\n",
    "model.add(Flatten())\n",
    "model.add(Dense(128, activation=\"relu\", kernel_initializer=\"he_uniform\"))\n",
    "model.add(Dense(10, activation=\"softmax\"))"
   ]
  },
  {
   "cell_type": "code",
   "execution_count": null,
   "metadata": {
    "id": "5eljl8kJTJwk"
   },
   "outputs": [],
   "source": [
    "# example output part of the model\n",
    "opt = SGD(lr=0.001, momentum=0.9)\n",
    "model.compile(optimizer=opt, loss=\"categorical_crossentropy\", metrics=[\"accuracy\"])"
   ]
  },
  {
   "cell_type": "code",
   "execution_count": null,
   "metadata": {
    "colab": {
     "base_uri": "https://localhost:8080/"
    },
    "id": "MRuT4SY6TLfl",
    "outputId": "1d7e17a4-4872-4641-c383-0e9bf5a1f574"
   },
   "outputs": [
    {
     "name": "stdout",
     "output_type": "stream",
     "text": [
      "Model: \"sequential_4\"\n",
      "_________________________________________________________________\n",
      "Layer (type)                 Output Shape              Param #   \n",
      "=================================================================\n",
      "conv2d_16 (Conv2D)           (None, 32, 32, 32)        896       \n",
      "_________________________________________________________________\n",
      "conv2d_17 (Conv2D)           (None, 32, 32, 32)        9248      \n",
      "_________________________________________________________________\n",
      "max_pooling2d_10 (MaxPooling (None, 16, 16, 32)        0         \n",
      "_________________________________________________________________\n",
      "dropout_3 (Dropout)          (None, 16, 16, 32)        0         \n",
      "_________________________________________________________________\n",
      "conv2d_18 (Conv2D)           (None, 16, 16, 64)        18496     \n",
      "_________________________________________________________________\n",
      "conv2d_19 (Conv2D)           (None, 16, 16, 64)        36928     \n",
      "_________________________________________________________________\n",
      "max_pooling2d_11 (MaxPooling (None, 8, 8, 64)          0         \n",
      "_________________________________________________________________\n",
      "dropout_4 (Dropout)          (None, 8, 8, 64)          0         \n",
      "_________________________________________________________________\n",
      "conv2d_20 (Conv2D)           (None, 8, 8, 128)         73856     \n",
      "_________________________________________________________________\n",
      "conv2d_21 (Conv2D)           (None, 8, 8, 128)         147584    \n",
      "_________________________________________________________________\n",
      "max_pooling2d_12 (MaxPooling (None, 4, 4, 128)         0         \n",
      "_________________________________________________________________\n",
      "dropout_5 (Dropout)          (None, 4, 4, 128)         0         \n",
      "_________________________________________________________________\n",
      "flatten_4 (Flatten)          (None, 2048)              0         \n",
      "_________________________________________________________________\n",
      "dense_8 (Dense)              (None, 128)               262272    \n",
      "_________________________________________________________________\n",
      "dense_9 (Dense)              (None, 10)                1290      \n",
      "=================================================================\n",
      "Total params: 550,570\n",
      "Trainable params: 550,570\n",
      "Non-trainable params: 0\n",
      "_________________________________________________________________\n"
     ]
    }
   ],
   "source": [
    "model.summary()"
   ]
  },
  {
   "cell_type": "code",
   "execution_count": null,
   "metadata": {
    "id": "A9RYJcECSthB"
   },
   "outputs": [],
   "source": [
    "from keras.preprocessing.image import ImageDataGenerator"
   ]
  },
  {
   "cell_type": "code",
   "execution_count": null,
   "metadata": {
    "id": "pfKPa2a1Sz4x"
   },
   "outputs": [],
   "source": [
    "datagen = ImageDataGenerator(width_shift_range=0.1, height_shift_range=0.1,\n",
    "horizontal_flip=True)"
   ]
  },
  {
   "cell_type": "code",
   "execution_count": null,
   "metadata": {
    "id": "Rcrw8IyqS2k3"
   },
   "outputs": [],
   "source": [
    "it_train = datagen.flow(train_norm, trainY, batch_size=64)"
   ]
  },
  {
   "cell_type": "code",
   "execution_count": null,
   "metadata": {
    "id": "MvOJVYUQS5-h"
   },
   "outputs": [],
   "source": []
  },
  {
   "cell_type": "code",
   "execution_count": null,
   "metadata": {
    "colab": {
     "base_uri": "https://localhost:8080/"
    },
    "id": "5Uh1fv11S_11",
    "outputId": "8ce7c584-5956-4194-8423-7ee6891449a6"
   },
   "outputs": [
    {
     "name": "stderr",
     "output_type": "stream",
     "text": [
      "/usr/local/lib/python3.7/dist-packages/tensorflow/python/keras/engine/training.py:1844: UserWarning: `Model.fit_generator` is deprecated and will be removed in a future version. Please use `Model.fit`, which supports generators.\n",
      "  warnings.warn('`Model.fit_generator` is deprecated and '\n"
     ]
    },
    {
     "name": "stdout",
     "output_type": "stream",
     "text": [
      "Epoch 1/50\n",
      "781/781 [==============================] - 26s 33ms/step - loss: 2.3583 - accuracy: 0.1448 - val_loss: 1.9572 - val_accuracy: 0.3091\n",
      "Epoch 2/50\n",
      "781/781 [==============================] - 26s 33ms/step - loss: 1.8884 - accuracy: 0.3037 - val_loss: 1.6750 - val_accuracy: 0.4009\n",
      "Epoch 3/50\n",
      "781/781 [==============================] - 25s 33ms/step - loss: 1.7188 - accuracy: 0.3635 - val_loss: 1.5564 - val_accuracy: 0.4331\n",
      "Epoch 4/50\n",
      "781/781 [==============================] - 25s 33ms/step - loss: 1.5989 - accuracy: 0.4106 - val_loss: 1.5600 - val_accuracy: 0.4362\n",
      "Epoch 5/50\n",
      "781/781 [==============================] - 26s 33ms/step - loss: 1.5291 - accuracy: 0.4333 - val_loss: 1.3937 - val_accuracy: 0.4946\n",
      "Epoch 6/50\n",
      "781/781 [==============================] - 26s 33ms/step - loss: 1.4835 - accuracy: 0.4570 - val_loss: 1.3726 - val_accuracy: 0.5001\n",
      "Epoch 7/50\n",
      "781/781 [==============================] - 26s 33ms/step - loss: 1.4385 - accuracy: 0.4710 - val_loss: 1.3996 - val_accuracy: 0.4899\n",
      "Epoch 8/50\n",
      "781/781 [==============================] - 26s 33ms/step - loss: 1.3972 - accuracy: 0.4874 - val_loss: 1.3001 - val_accuracy: 0.5331\n",
      "Epoch 9/50\n",
      "781/781 [==============================] - 25s 33ms/step - loss: 1.3578 - accuracy: 0.5059 - val_loss: 1.3120 - val_accuracy: 0.5297\n",
      "Epoch 10/50\n",
      "781/781 [==============================] - 25s 33ms/step - loss: 1.3347 - accuracy: 0.5159 - val_loss: 1.2720 - val_accuracy: 0.5438\n",
      "Epoch 11/50\n",
      "781/781 [==============================] - 25s 33ms/step - loss: 1.2933 - accuracy: 0.5309 - val_loss: 1.3335 - val_accuracy: 0.5163\n",
      "Epoch 12/50\n",
      "781/781 [==============================] - 26s 33ms/step - loss: 1.2561 - accuracy: 0.5440 - val_loss: 1.2393 - val_accuracy: 0.5539\n",
      "Epoch 13/50\n",
      "781/781 [==============================] - 26s 33ms/step - loss: 1.2321 - accuracy: 0.5530 - val_loss: 1.2721 - val_accuracy: 0.5505\n",
      "Epoch 14/50\n",
      "781/781 [==============================] - 26s 33ms/step - loss: 1.1991 - accuracy: 0.5671 - val_loss: 1.1979 - val_accuracy: 0.5744\n",
      "Epoch 15/50\n",
      "781/781 [==============================] - 26s 33ms/step - loss: 1.1844 - accuracy: 0.5744 - val_loss: 1.1970 - val_accuracy: 0.5814\n",
      "Epoch 16/50\n",
      "781/781 [==============================] - 26s 33ms/step - loss: 1.1598 - accuracy: 0.5857 - val_loss: 1.2349 - val_accuracy: 0.5666\n",
      "Epoch 17/50\n",
      "781/781 [==============================] - 26s 33ms/step - loss: 1.1383 - accuracy: 0.5899 - val_loss: 1.1038 - val_accuracy: 0.6064\n",
      "Epoch 18/50\n",
      "781/781 [==============================] - 26s 33ms/step - loss: 1.1235 - accuracy: 0.5991 - val_loss: 1.1956 - val_accuracy: 0.5779\n",
      "Epoch 19/50\n",
      "781/781 [==============================] - 26s 33ms/step - loss: 1.0948 - accuracy: 0.6054 - val_loss: 1.0970 - val_accuracy: 0.6117\n",
      "Epoch 20/50\n",
      "781/781 [==============================] - 26s 33ms/step - loss: 1.0867 - accuracy: 0.6088 - val_loss: 1.0929 - val_accuracy: 0.6091\n",
      "Epoch 21/50\n",
      "781/781 [==============================] - 26s 33ms/step - loss: 1.0684 - accuracy: 0.6192 - val_loss: 0.9476 - val_accuracy: 0.6603\n",
      "Epoch 22/50\n",
      "781/781 [==============================] - 26s 33ms/step - loss: 1.0562 - accuracy: 0.6221 - val_loss: 0.9568 - val_accuracy: 0.6593\n",
      "Epoch 23/50\n",
      "781/781 [==============================] - 26s 33ms/step - loss: 1.0431 - accuracy: 0.6289 - val_loss: 0.9539 - val_accuracy: 0.6640\n",
      "Epoch 24/50\n",
      "781/781 [==============================] - 26s 33ms/step - loss: 1.0169 - accuracy: 0.6391 - val_loss: 1.0370 - val_accuracy: 0.6310\n",
      "Epoch 25/50\n",
      "781/781 [==============================] - 26s 33ms/step - loss: 1.0133 - accuracy: 0.6407 - val_loss: 1.0870 - val_accuracy: 0.6162\n",
      "Epoch 26/50\n",
      "781/781 [==============================] - 26s 33ms/step - loss: 0.9989 - accuracy: 0.6414 - val_loss: 0.9278 - val_accuracy: 0.6742\n",
      "Epoch 27/50\n",
      "781/781 [==============================] - 26s 33ms/step - loss: 0.9847 - accuracy: 0.6468 - val_loss: 0.9717 - val_accuracy: 0.6527\n",
      "Epoch 28/50\n",
      "781/781 [==============================] - 26s 33ms/step - loss: 0.9692 - accuracy: 0.6528 - val_loss: 0.9604 - val_accuracy: 0.6580\n",
      "Epoch 29/50\n",
      "781/781 [==============================] - 26s 33ms/step - loss: 0.9606 - accuracy: 0.6566 - val_loss: 0.8436 - val_accuracy: 0.7023\n",
      "Epoch 30/50\n",
      "781/781 [==============================] - 26s 33ms/step - loss: 0.9471 - accuracy: 0.6608 - val_loss: 0.9279 - val_accuracy: 0.6764\n",
      "Epoch 31/50\n",
      "781/781 [==============================] - 26s 34ms/step - loss: 0.9325 - accuracy: 0.6651 - val_loss: 0.8566 - val_accuracy: 0.6991\n",
      "Epoch 32/50\n",
      "781/781 [==============================] - 26s 33ms/step - loss: 0.9258 - accuracy: 0.6746 - val_loss: 0.8588 - val_accuracy: 0.6995\n",
      "Epoch 33/50\n",
      "781/781 [==============================] - 26s 33ms/step - loss: 0.9081 - accuracy: 0.6771 - val_loss: 0.9076 - val_accuracy: 0.6853\n",
      "Epoch 34/50\n",
      "781/781 [==============================] - 26s 33ms/step - loss: 0.9144 - accuracy: 0.6769 - val_loss: 0.9102 - val_accuracy: 0.6863\n",
      "Epoch 35/50\n",
      "781/781 [==============================] - 26s 33ms/step - loss: 0.8892 - accuracy: 0.6850 - val_loss: 0.9043 - val_accuracy: 0.6825\n",
      "Epoch 36/50\n",
      "781/781 [==============================] - 25s 33ms/step - loss: 0.8857 - accuracy: 0.6857 - val_loss: 0.9151 - val_accuracy: 0.6797\n",
      "Epoch 37/50\n",
      "781/781 [==============================] - 25s 33ms/step - loss: 0.8849 - accuracy: 0.6834 - val_loss: 0.9368 - val_accuracy: 0.6778\n",
      "Epoch 38/50\n",
      "781/781 [==============================] - 25s 32ms/step - loss: 0.8695 - accuracy: 0.6944 - val_loss: 0.8759 - val_accuracy: 0.6940\n",
      "Epoch 39/50\n",
      "781/781 [==============================] - 25s 33ms/step - loss: 0.8688 - accuracy: 0.6918 - val_loss: 0.8867 - val_accuracy: 0.6941\n",
      "Epoch 40/50\n",
      "781/781 [==============================] - 26s 33ms/step - loss: 0.8480 - accuracy: 0.6982 - val_loss: 0.8818 - val_accuracy: 0.6948\n",
      "Epoch 41/50\n",
      "781/781 [==============================] - 26s 33ms/step - loss: 0.8364 - accuracy: 0.7033 - val_loss: 0.7882 - val_accuracy: 0.7241\n",
      "Epoch 42/50\n",
      "781/781 [==============================] - 26s 33ms/step - loss: 0.8389 - accuracy: 0.7002 - val_loss: 0.8196 - val_accuracy: 0.7196\n",
      "Epoch 43/50\n",
      "781/781 [==============================] - 26s 33ms/step - loss: 0.8539 - accuracy: 0.6979 - val_loss: 0.7845 - val_accuracy: 0.7258\n",
      "Epoch 44/50\n",
      "781/781 [==============================] - 25s 32ms/step - loss: 0.8195 - accuracy: 0.7093 - val_loss: 0.8121 - val_accuracy: 0.7194\n",
      "Epoch 45/50\n",
      "781/781 [==============================] - 25s 32ms/step - loss: 0.8200 - accuracy: 0.7099 - val_loss: 0.8086 - val_accuracy: 0.7192\n",
      "Epoch 46/50\n",
      "781/781 [==============================] - 25s 32ms/step - loss: 0.8188 - accuracy: 0.7103 - val_loss: 0.7713 - val_accuracy: 0.7344\n",
      "Epoch 47/50\n",
      "781/781 [==============================] - 25s 32ms/step - loss: 0.8172 - accuracy: 0.7095 - val_loss: 0.7570 - val_accuracy: 0.7366\n",
      "Epoch 48/50\n",
      "781/781 [==============================] - 25s 32ms/step - loss: 0.7999 - accuracy: 0.7151 - val_loss: 0.8145 - val_accuracy: 0.7181\n",
      "Epoch 49/50\n",
      "781/781 [==============================] - 26s 33ms/step - loss: 0.7962 - accuracy: 0.7179 - val_loss: 0.7921 - val_accuracy: 0.7228\n",
      "Epoch 50/50\n",
      "781/781 [==============================] - 26s 33ms/step - loss: 0.8013 - accuracy: 0.7173 - val_loss: 0.7680 - val_accuracy: 0.7375\n"
     ]
    }
   ],
   "source": [
    "steps = int(trainX.shape[0] / 64)\n",
    "history = model.fit_generator(it_train, steps_per_epoch=steps, epochs=50,\n",
    "validation_data=(test_norm, testY), verbose=1)"
   ]
  },
  {
   "cell_type": "code",
   "execution_count": null,
   "metadata": {
    "id": "mgaLWf_sXS0C"
   },
   "outputs": [],
   "source": []
  },
  {
   "cell_type": "code",
   "execution_count": null,
   "metadata": {
    "colab": {
     "base_uri": "https://localhost:8080/",
     "height": 180
    },
    "id": "owzOYas5Trsz",
    "outputId": "14d5606f-e759-45dc-fda6-8e54e14d0e13"
   },
   "outputs": [
    {
     "data": {
      "text/plain": [
       "[<matplotlib.lines.Line2D at 0x7f2f8e269d90>]"
      ]
     },
     "execution_count": 40,
     "metadata": {
      "tags": []
     },
     "output_type": "execute_result"
    },
    {
     "data": {
      "image/png": "[encoded data removed]",
      "text/plain": [
       "<Figure size 432x288 with 1 Axes>"
      ]
     },
     "metadata": {
      "needs_background": "light",
      "tags": []
     },
     "output_type": "display_data"
    }
   ],
   "source": [
    "import matplotlib.pyplot as plt\n",
    "\n",
    "plt.subplot(211)\n",
    "plt.title(\"Cross Entropy Loss\")\n",
    "plt.plot(history.history[\"loss\"], color=\"blue\", label=\"train\")\n",
    "plt.plot(history.history[\"val_loss\"], color=\"orange\", label=\"test\")"
   ]
  },
  {
   "cell_type": "code",
   "execution_count": null,
   "metadata": {
    "colab": {
     "base_uri": "https://localhost:8080/",
     "height": 298
    },
    "id": "USq_rkZtWBjb",
    "outputId": "67d8a9db-88f9-421b-829c-f73b41b64ac6"
   },
   "outputs": [
    {
     "data": {
      "text/plain": [
       "[<matplotlib.lines.Line2D at 0x7f2f8e1c4f50>]"
      ]
     },
     "execution_count": 41,
     "metadata": {
      "tags": []
     },
     "output_type": "execute_result"
    },
    {
     "data": {
      "image/png": "[encoded data removed]",
      "text/plain": [
       "<Figure size 432x288 with 1 Axes>"
      ]
     },
     "metadata": {
      "needs_background": "light",
      "tags": []
     },
     "output_type": "display_data"
    }
   ],
   "source": [
    "plt.title(\"Classification Accuracy\")\n",
    "plt.plot(history.history[\"accuracy\"], color=\"blue\", label=\"train\")\n",
    "plt.plot(history.history[\"val_accuracy\"], color=\"orange\", label=\"test\")\n"
   ]
  },
  {
   "cell_type": "markdown",
   "metadata": {
    "id": "7Jh2MizoWPxk"
   },
   "source": [
    "Let's Use BatchNormalization"
   ]
  },
  {
   "cell_type": "code",
   "execution_count": null,
   "metadata": {
    "id": "dpz_t3rPWEWk"
   },
   "outputs": [],
   "source": [
    "from keras.layers import BatchNormalization"
   ]
  },
  {
   "cell_type": "code",
   "execution_count": null,
   "metadata": {
    "id": "MM584h9OWBxW"
   },
   "outputs": [],
   "source": [
    "model=Sequential()\n",
    "model.add(Conv2D(32,(3,3),activation=\"relu\",padding=\"same\",kernel_initializer=\"he_uniform\",input_shape=(32, 32, 3)))\n",
    "model.add(Conv2D(32, (3, 3), activation=\"relu\", kernel_initializer=\"he_uniform\",\n",
    "padding=\"same\"))\n",
    "model.add(BatchNormalization())\n",
    "model.add(MaxPooling2D((2, 2)))\n",
    "model.add(Dropout(0.4))\n",
    "model.add(Conv2D(64, (3, 3), activation=\"relu\", kernel_initializer=\"he_uniform\",\n",
    "padding=\"same\"))\n",
    "model.add(Conv2D(64, (3, 3), activation=\"relu\", kernel_initializer=\"he_uniform\",\n",
    "padding=\"same\"))\n",
    "model.add(BatchNormalization())\n",
    "model.add(MaxPooling2D((2, 2)))\n",
    "model.add(Dropout(0.4))\n",
    "model.add(Conv2D(128, (3, 3), activation=\"relu\", kernel_initializer=\"he_uniform\",\n",
    "padding=\"same\"))\n",
    "model.add(Conv2D(128, (3, 3), activation=\"relu\", kernel_initializer=\"he_uniform\",\n",
    "padding=\"same\"))\n",
    "model.add(BatchNormalization())\n",
    "model.add(MaxPooling2D((2, 2)))\n",
    "model.add(Dropout(0.4))\n",
    "model.add(Flatten())\n",
    "model.add(Dense(128, activation=\"relu\", kernel_initializer=\"he_uniform\"))\n",
    "model.add(Dense(10, activation=\"softmax\"))"
   ]
  },
  {
   "cell_type": "code",
   "execution_count": null,
   "metadata": {
    "id": "IUVtzntsWYsl"
   },
   "outputs": [],
   "source": [
    "# example output part of the model\n",
    "opt = SGD(lr=0.001, momentum=0.9)\n",
    "model.compile(optimizer=opt, loss=\"categorical_crossentropy\", metrics=[\"accuracy\"])"
   ]
  },
  {
   "cell_type": "code",
   "execution_count": null,
   "metadata": {
    "id": "yn109KQzWcq3"
   },
   "outputs": [],
   "source": [
    "from keras.preprocessing.image import ImageDataGenerator"
   ]
  },
  {
   "cell_type": "code",
   "execution_count": null,
   "metadata": {
    "id": "aOYXXoVSWgk1"
   },
   "outputs": [],
   "source": [
    "datagen = ImageDataGenerator(width_shift_range=0.1, height_shift_range=0.1,\n",
    "horizontal_flip=True)"
   ]
  },
  {
   "cell_type": "code",
   "execution_count": null,
   "metadata": {
    "id": "NJ2NCdwfWkHv"
   },
   "outputs": [],
   "source": [
    "it_train = datagen.flow(train_norm, trainY, batch_size=64)"
   ]
  },
  {
   "cell_type": "code",
   "execution_count": null,
   "metadata": {
    "colab": {
     "base_uri": "https://localhost:8080/"
    },
    "id": "bgdxjxx9Wnqq",
    "outputId": "eff4e46a-77cb-4659-b3cb-a1fe2a323fcd"
   },
   "outputs": [
    {
     "name": "stderr",
     "output_type": "stream",
     "text": [
      "/usr/local/lib/python3.7/dist-packages/tensorflow/python/keras/engine/training.py:1844: UserWarning: `Model.fit_generator` is deprecated and will be removed in a future version. Please use `Model.fit`, which supports generators.\n",
      "  warnings.warn('`Model.fit_generator` is deprecated and '\n"
     ]
    },
    {
     "name": "stdout",
     "output_type": "stream",
     "text": [
      "Epoch 1/100\n",
      "781/781 [==============================] - 27s 34ms/step - loss: 2.2585 - accuracy: 0.2299 - val_loss: 1.7157 - val_accuracy: 0.3864\n",
      "Epoch 2/100\n",
      "781/781 [==============================] - 26s 33ms/step - loss: 1.6533 - accuracy: 0.3846 - val_loss: 1.6200 - val_accuracy: 0.4231\n",
      "Epoch 3/100\n",
      "781/781 [==============================] - 26s 33ms/step - loss: 1.5365 - accuracy: 0.4345 - val_loss: 1.5693 - val_accuracy: 0.4458\n",
      "Epoch 4/100\n",
      "781/781 [==============================] - 26s 33ms/step - loss: 1.4613 - accuracy: 0.4667 - val_loss: 1.4599 - val_accuracy: 0.4917\n",
      "Epoch 5/100\n",
      "781/781 [==============================] - 26s 33ms/step - loss: 1.4093 - accuracy: 0.4825 - val_loss: 1.4615 - val_accuracy: 0.4851\n",
      "Epoch 6/100\n",
      "781/781 [==============================] - 26s 33ms/step - loss: 1.3524 - accuracy: 0.5061 - val_loss: 1.3146 - val_accuracy: 0.5398\n",
      "Epoch 7/100\n",
      "781/781 [==============================] - 26s 33ms/step - loss: 1.3064 - accuracy: 0.5268 - val_loss: 1.3077 - val_accuracy: 0.5512\n",
      "Epoch 8/100\n",
      "781/781 [==============================] - 26s 33ms/step - loss: 1.2589 - accuracy: 0.5407 - val_loss: 1.2200 - val_accuracy: 0.5729\n",
      "Epoch 9/100\n",
      "781/781 [==============================] - 26s 33ms/step - loss: 1.2244 - accuracy: 0.5587 - val_loss: 1.1659 - val_accuracy: 0.5900\n",
      "Epoch 10/100\n",
      "781/781 [==============================] - 26s 33ms/step - loss: 1.1907 - accuracy: 0.5717 - val_loss: 1.6672 - val_accuracy: 0.4882\n",
      "Epoch 11/100\n",
      "781/781 [==============================] - 26s 33ms/step - loss: 1.1639 - accuracy: 0.5775 - val_loss: 1.2776 - val_accuracy: 0.5702\n",
      "Epoch 12/100\n",
      "781/781 [==============================] - 26s 33ms/step - loss: 1.1249 - accuracy: 0.5897 - val_loss: 1.2178 - val_accuracy: 0.5777\n",
      "Epoch 13/100\n",
      "781/781 [==============================] - 26s 33ms/step - loss: 1.1040 - accuracy: 0.5988 - val_loss: 1.2917 - val_accuracy: 0.5775\n",
      "Epoch 14/100\n",
      "781/781 [==============================] - 26s 33ms/step - loss: 1.0710 - accuracy: 0.6140 - val_loss: 1.0656 - val_accuracy: 0.6276\n",
      "Epoch 15/100\n",
      "781/781 [==============================] - 26s 33ms/step - loss: 1.0665 - accuracy: 0.6181 - val_loss: 1.1482 - val_accuracy: 0.6117\n",
      "Epoch 16/100\n",
      "781/781 [==============================] - 26s 33ms/step - loss: 1.0380 - accuracy: 0.6253 - val_loss: 1.1728 - val_accuracy: 0.6061\n",
      "Epoch 17/100\n",
      "781/781 [==============================] - 26s 33ms/step - loss: 1.0073 - accuracy: 0.6390 - val_loss: 1.0416 - val_accuracy: 0.6286\n",
      "Epoch 18/100\n",
      "781/781 [==============================] - 26s 33ms/step - loss: 0.9979 - accuracy: 0.6413 - val_loss: 1.1004 - val_accuracy: 0.6208\n",
      "Epoch 19/100\n",
      "781/781 [==============================] - 26s 33ms/step - loss: 0.9783 - accuracy: 0.6501 - val_loss: 1.0804 - val_accuracy: 0.6364\n",
      "Epoch 20/100\n",
      "781/781 [==============================] - 26s 33ms/step - loss: 0.9681 - accuracy: 0.6528 - val_loss: 0.9836 - val_accuracy: 0.6591\n",
      "Epoch 21/100\n",
      "781/781 [==============================] - 26s 34ms/step - loss: 0.9397 - accuracy: 0.6626 - val_loss: 0.8906 - val_accuracy: 0.6834\n",
      "Epoch 22/100\n",
      "781/781 [==============================] - 26s 33ms/step - loss: 0.9246 - accuracy: 0.6709 - val_loss: 1.0273 - val_accuracy: 0.6526\n",
      "Epoch 23/100\n",
      "781/781 [==============================] - 26s 33ms/step - loss: 0.9175 - accuracy: 0.6722 - val_loss: 0.9753 - val_accuracy: 0.6628\n",
      "Epoch 24/100\n",
      "781/781 [==============================] - 26s 33ms/step - loss: 0.9027 - accuracy: 0.6796 - val_loss: 0.9311 - val_accuracy: 0.6766\n",
      "Epoch 25/100\n",
      "781/781 [==============================] - 26s 33ms/step - loss: 0.8891 - accuracy: 0.6796 - val_loss: 1.1070 - val_accuracy: 0.6323\n",
      "Epoch 26/100\n",
      "781/781 [==============================] - 26s 33ms/step - loss: 0.8731 - accuracy: 0.6896 - val_loss: 0.9132 - val_accuracy: 0.6915\n",
      "Epoch 27/100\n",
      "781/781 [==============================] - 26s 33ms/step - loss: 0.8729 - accuracy: 0.6914 - val_loss: 0.8889 - val_accuracy: 0.6983\n",
      "Epoch 28/100\n",
      "781/781 [==============================] - 26s 33ms/step - loss: 0.8511 - accuracy: 0.6971 - val_loss: 1.2114 - val_accuracy: 0.6058\n",
      "Epoch 29/100\n",
      "781/781 [==============================] - 26s 33ms/step - loss: 0.8525 - accuracy: 0.6954 - val_loss: 1.0178 - val_accuracy: 0.6596\n",
      "Epoch 30/100\n",
      "781/781 [==============================] - 26s 33ms/step - loss: 0.8272 - accuracy: 0.7081 - val_loss: 0.8180 - val_accuracy: 0.7112\n",
      "Epoch 31/100\n",
      "781/781 [==============================] - 26s 33ms/step - loss: 0.8257 - accuracy: 0.7082 - val_loss: 0.9912 - val_accuracy: 0.6672\n",
      "Epoch 32/100\n",
      "781/781 [==============================] - 26s 33ms/step - loss: 0.8202 - accuracy: 0.7106 - val_loss: 1.2136 - val_accuracy: 0.6199\n",
      "Epoch 33/100\n",
      "781/781 [==============================] - 26s 33ms/step - loss: 0.7938 - accuracy: 0.7201 - val_loss: 0.8873 - val_accuracy: 0.6962\n",
      "Epoch 34/100\n",
      "781/781 [==============================] - 26s 33ms/step - loss: 0.7994 - accuracy: 0.7186 - val_loss: 1.0325 - val_accuracy: 0.6647\n",
      "Epoch 35/100\n",
      "781/781 [==============================] - 26s 33ms/step - loss: 0.7861 - accuracy: 0.7215 - val_loss: 0.8993 - val_accuracy: 0.6941\n",
      "Epoch 36/100\n",
      "781/781 [==============================] - 26s 33ms/step - loss: 0.7717 - accuracy: 0.7259 - val_loss: 0.9938 - val_accuracy: 0.6700\n",
      "Epoch 37/100\n",
      "781/781 [==============================] - 26s 33ms/step - loss: 0.7738 - accuracy: 0.7278 - val_loss: 0.7903 - val_accuracy: 0.7255\n",
      "Epoch 38/100\n",
      "781/781 [==============================] - 25s 33ms/step - loss: 0.7714 - accuracy: 0.7275 - val_loss: 0.7037 - val_accuracy: 0.7580\n",
      "Epoch 39/100\n",
      "781/781 [==============================] - 26s 33ms/step - loss: 0.7678 - accuracy: 0.7293 - val_loss: 0.8114 - val_accuracy: 0.7215\n",
      "Epoch 40/100\n",
      "781/781 [==============================] - 26s 33ms/step - loss: 0.7594 - accuracy: 0.7313 - val_loss: 0.6941 - val_accuracy: 0.7569\n",
      "Epoch 41/100\n",
      "781/781 [==============================] - 26s 33ms/step - loss: 0.7459 - accuracy: 0.7347 - val_loss: 0.8133 - val_accuracy: 0.7215\n",
      "Epoch 42/100\n",
      "781/781 [==============================] - 26s 33ms/step - loss: 0.7451 - accuracy: 0.7337 - val_loss: 0.7773 - val_accuracy: 0.7350\n",
      "Epoch 43/100\n",
      "781/781 [==============================] - 26s 33ms/step - loss: 0.7387 - accuracy: 0.7376 - val_loss: 0.7982 - val_accuracy: 0.7256\n",
      "Epoch 44/100\n",
      "781/781 [==============================] - 26s 33ms/step - loss: 0.7344 - accuracy: 0.7406 - val_loss: 0.6508 - val_accuracy: 0.7725\n",
      "Epoch 45/100\n",
      "781/781 [==============================] - 26s 33ms/step - loss: 0.7332 - accuracy: 0.7354 - val_loss: 0.7060 - val_accuracy: 0.7593\n",
      "Epoch 46/100\n",
      "781/781 [==============================] - 26s 33ms/step - loss: 0.7237 - accuracy: 0.7449 - val_loss: 0.8221 - val_accuracy: 0.7194\n",
      "Epoch 47/100\n",
      "781/781 [==============================] - 26s 33ms/step - loss: 0.7143 - accuracy: 0.7469 - val_loss: 0.7227 - val_accuracy: 0.7482\n",
      "Epoch 48/100\n",
      "781/781 [==============================] - 26s 33ms/step - loss: 0.7100 - accuracy: 0.7492 - val_loss: 0.8302 - val_accuracy: 0.7236\n",
      "Epoch 49/100\n",
      "781/781 [==============================] - 26s 33ms/step - loss: 0.6947 - accuracy: 0.7573 - val_loss: 0.8183 - val_accuracy: 0.7237\n",
      "Epoch 50/100\n",
      "781/781 [==============================] - 26s 33ms/step - loss: 0.7172 - accuracy: 0.7459 - val_loss: 0.8990 - val_accuracy: 0.7065\n",
      "Epoch 51/100\n",
      "781/781 [==============================] - 26s 33ms/step - loss: 0.6880 - accuracy: 0.7553 - val_loss: 0.7450 - val_accuracy: 0.7476\n",
      "Epoch 52/100\n",
      "781/781 [==============================] - 26s 33ms/step - loss: 0.7011 - accuracy: 0.7534 - val_loss: 0.7006 - val_accuracy: 0.7582\n",
      "Epoch 53/100\n",
      "781/781 [==============================] - 26s 33ms/step - loss: 0.7025 - accuracy: 0.7516 - val_loss: 0.7876 - val_accuracy: 0.7358\n",
      "Epoch 54/100\n",
      "781/781 [==============================] - 26s 33ms/step - loss: 0.6711 - accuracy: 0.7644 - val_loss: 0.8620 - val_accuracy: 0.7109\n",
      "Epoch 55/100\n",
      "781/781 [==============================] - 26s 33ms/step - loss: 0.6837 - accuracy: 0.7589 - val_loss: 0.7414 - val_accuracy: 0.7450\n",
      "Epoch 56/100\n",
      "781/781 [==============================] - 26s 33ms/step - loss: 0.6719 - accuracy: 0.7639 - val_loss: 0.7221 - val_accuracy: 0.7545\n",
      "Epoch 57/100\n",
      "781/781 [==============================] - 26s 33ms/step - loss: 0.6759 - accuracy: 0.7628 - val_loss: 0.7542 - val_accuracy: 0.7463\n",
      "Epoch 58/100\n",
      "781/781 [==============================] - 26s 33ms/step - loss: 0.6732 - accuracy: 0.7620 - val_loss: 0.6919 - val_accuracy: 0.7652\n",
      "Epoch 59/100\n",
      "781/781 [==============================] - 26s 33ms/step - loss: 0.6614 - accuracy: 0.7684 - val_loss: 0.6513 - val_accuracy: 0.7781\n",
      "Epoch 60/100\n",
      "781/781 [==============================] - 26s 33ms/step - loss: 0.6613 - accuracy: 0.7687 - val_loss: 0.7601 - val_accuracy: 0.7422\n",
      "Epoch 61/100\n",
      "781/781 [==============================] - 26s 33ms/step - loss: 0.6607 - accuracy: 0.7686 - val_loss: 0.7022 - val_accuracy: 0.7632\n",
      "Epoch 62/100\n",
      "781/781 [==============================] - 26s 33ms/step - loss: 0.6511 - accuracy: 0.7691 - val_loss: 0.6786 - val_accuracy: 0.7698\n",
      "Epoch 63/100\n",
      "781/781 [==============================] - 25s 33ms/step - loss: 0.6492 - accuracy: 0.7725 - val_loss: 0.7090 - val_accuracy: 0.7633\n",
      "Epoch 64/100\n",
      "781/781 [==============================] - 26s 33ms/step - loss: 0.6457 - accuracy: 0.7748 - val_loss: 0.6463 - val_accuracy: 0.7791\n",
      "Epoch 65/100\n",
      "781/781 [==============================] - 26s 33ms/step - loss: 0.6482 - accuracy: 0.7720 - val_loss: 0.7476 - val_accuracy: 0.7458\n",
      "Epoch 66/100\n",
      "781/781 [==============================] - 25s 32ms/step - loss: 0.6471 - accuracy: 0.7730 - val_loss: 0.6635 - val_accuracy: 0.7742\n",
      "Epoch 67/100\n",
      "781/781 [==============================] - 26s 33ms/step - loss: 0.6431 - accuracy: 0.7736 - val_loss: 0.6293 - val_accuracy: 0.7883\n",
      "Epoch 68/100\n",
      "781/781 [==============================] - 25s 33ms/step - loss: 0.6272 - accuracy: 0.7809 - val_loss: 0.7911 - val_accuracy: 0.7417\n",
      "Epoch 69/100\n",
      "781/781 [==============================] - 26s 33ms/step - loss: 0.6246 - accuracy: 0.7786 - val_loss: 0.7627 - val_accuracy: 0.7454\n",
      "Epoch 70/100\n",
      "781/781 [==============================] - 26s 33ms/step - loss: 0.6283 - accuracy: 0.7806 - val_loss: 0.6617 - val_accuracy: 0.7778\n",
      "Epoch 71/100\n",
      "781/781 [==============================] - 26s 33ms/step - loss: 0.6259 - accuracy: 0.7795 - val_loss: 0.7850 - val_accuracy: 0.7380\n",
      "Epoch 72/100\n",
      "781/781 [==============================] - 26s 33ms/step - loss: 0.6170 - accuracy: 0.7822 - val_loss: 0.7069 - val_accuracy: 0.7631\n",
      "Epoch 73/100\n",
      "781/781 [==============================] - 26s 33ms/step - loss: 0.6040 - accuracy: 0.7885 - val_loss: 0.6638 - val_accuracy: 0.7759\n",
      "Epoch 74/100\n",
      "781/781 [==============================] - 26s 33ms/step - loss: 0.6226 - accuracy: 0.7798 - val_loss: 0.6699 - val_accuracy: 0.7783\n",
      "Epoch 75/100\n",
      "781/781 [==============================] - 26s 33ms/step - loss: 0.6054 - accuracy: 0.7882 - val_loss: 0.6441 - val_accuracy: 0.7836\n",
      "Epoch 76/100\n",
      "781/781 [==============================] - 26s 33ms/step - loss: 0.6110 - accuracy: 0.7856 - val_loss: 0.6568 - val_accuracy: 0.7769\n",
      "Epoch 77/100\n",
      "781/781 [==============================] - 26s 33ms/step - loss: 0.6032 - accuracy: 0.7872 - val_loss: 0.6023 - val_accuracy: 0.7978\n",
      "Epoch 78/100\n",
      "781/781 [==============================] - 25s 32ms/step - loss: 0.6026 - accuracy: 0.7864 - val_loss: 0.7192 - val_accuracy: 0.7630\n",
      "Epoch 79/100\n",
      "781/781 [==============================] - 26s 33ms/step - loss: 0.5970 - accuracy: 0.7928 - val_loss: 0.7914 - val_accuracy: 0.7425\n",
      "Epoch 80/100\n",
      "781/781 [==============================] - 25s 32ms/step - loss: 0.6019 - accuracy: 0.7879 - val_loss: 0.5629 - val_accuracy: 0.8106\n",
      "Epoch 81/100\n",
      "781/781 [==============================] - 25s 32ms/step - loss: 0.6002 - accuracy: 0.7909 - val_loss: 0.6061 - val_accuracy: 0.7940\n",
      "Epoch 82/100\n",
      "781/781 [==============================] - 25s 32ms/step - loss: 0.5874 - accuracy: 0.7952 - val_loss: 0.6240 - val_accuracy: 0.7907\n",
      "Epoch 83/100\n",
      "781/781 [==============================] - 25s 32ms/step - loss: 0.5808 - accuracy: 0.7949 - val_loss: 0.6595 - val_accuracy: 0.7766\n",
      "Epoch 84/100\n",
      "781/781 [==============================] - 25s 32ms/step - loss: 0.5851 - accuracy: 0.7947 - val_loss: 0.5909 - val_accuracy: 0.7968\n",
      "Epoch 85/100\n",
      "781/781 [==============================] - 25s 32ms/step - loss: 0.5756 - accuracy: 0.7983 - val_loss: 0.6122 - val_accuracy: 0.7938\n",
      "Epoch 86/100\n",
      "781/781 [==============================] - 25s 33ms/step - loss: 0.5831 - accuracy: 0.7969 - val_loss: 0.6229 - val_accuracy: 0.7888\n",
      "Epoch 87/100\n",
      "781/781 [==============================] - 25s 32ms/step - loss: 0.5779 - accuracy: 0.7983 - val_loss: 0.5777 - val_accuracy: 0.8046\n",
      "Epoch 88/100\n",
      "781/781 [==============================] - 25s 33ms/step - loss: 0.5785 - accuracy: 0.7963 - val_loss: 0.6031 - val_accuracy: 0.7973\n",
      "Epoch 89/100\n",
      "781/781 [==============================] - 26s 33ms/step - loss: 0.5774 - accuracy: 0.7955 - val_loss: 0.6038 - val_accuracy: 0.7973\n",
      "Epoch 90/100\n",
      "781/781 [==============================] - 26s 33ms/step - loss: 0.5763 - accuracy: 0.7990 - val_loss: 0.5930 - val_accuracy: 0.7974\n",
      "Epoch 91/100\n",
      "781/781 [==============================] - 26s 33ms/step - loss: 0.5713 - accuracy: 0.7989 - val_loss: 0.6736 - val_accuracy: 0.7755\n",
      "Epoch 92/100\n",
      "781/781 [==============================] - 26s 33ms/step - loss: 0.5678 - accuracy: 0.8003 - val_loss: 0.5946 - val_accuracy: 0.8020\n",
      "Epoch 93/100\n",
      "781/781 [==============================] - 26s 33ms/step - loss: 0.5722 - accuracy: 0.8006 - val_loss: 0.7144 - val_accuracy: 0.7657\n",
      "Epoch 94/100\n",
      "781/781 [==============================] - 26s 33ms/step - loss: 0.5660 - accuracy: 0.8016 - val_loss: 0.5678 - val_accuracy: 0.8069\n",
      "Epoch 95/100\n",
      "781/781 [==============================] - 26s 33ms/step - loss: 0.5545 - accuracy: 0.8048 - val_loss: 0.6323 - val_accuracy: 0.7873\n",
      "Epoch 96/100\n",
      "781/781 [==============================] - 26s 33ms/step - loss: 0.5522 - accuracy: 0.8063 - val_loss: 0.6222 - val_accuracy: 0.7942\n",
      "Epoch 97/100\n",
      "781/781 [==============================] - 26s 33ms/step - loss: 0.5621 - accuracy: 0.8046 - val_loss: 0.5259 - val_accuracy: 0.8225\n",
      "Epoch 98/100\n",
      "781/781 [==============================] - 26s 33ms/step - loss: 0.5511 - accuracy: 0.8064 - val_loss: 0.5953 - val_accuracy: 0.8005\n",
      "Epoch 99/100\n",
      "781/781 [==============================] - 26s 33ms/step - loss: 0.5553 - accuracy: 0.8054 - val_loss: 0.5827 - val_accuracy: 0.8040\n",
      "Epoch 100/100\n",
      "781/781 [==============================] - 26s 33ms/step - loss: 0.5457 - accuracy: 0.8069 - val_loss: 0.6067 - val_accuracy: 0.7931\n"
     ]
    }
   ],
   "source": [
    "steps = int(trainX.shape[0] / 64)\n",
    "history = model.fit_generator(it_train, steps_per_epoch=steps, epochs=100,\n",
    "validation_data=(test_norm, testY), verbose=1)"
   ]
  },
  {
   "cell_type": "code",
   "execution_count": null,
   "metadata": {
    "colab": {
     "base_uri": "https://localhost:8080/",
     "height": 180
    },
    "id": "TYOj6Uxyb8ti",
    "outputId": "c4812689-c14a-4254-f341-b21027212f7e"
   },
   "outputs": [
    {
     "data": {
      "text/plain": [
       "[<matplotlib.lines.Line2D at 0x7f870cd6e198>]"
      ]
     },
     "execution_count": 77,
     "metadata": {
      "tags": []
     },
     "output_type": "execute_result"
    },
    {
     "data": {
      "image/png": "[encoded data removed]",
      "text/plain": [
       "<Figure size 432x288 with 1 Axes>"
      ]
     },
     "metadata": {
      "needs_background": "light",
      "tags": []
     },
     "output_type": "display_data"
    }
   ],
   "source": [
    "import matplotlib.pyplot as plt\n",
    "\n",
    "plt.subplot(211)\n",
    "plt.title(\"Cross Entropy Loss\")\n",
    "plt.plot(history.history[\"loss\"], color=\"blue\", label=\"train\")\n",
    "plt.plot(history.history[\"val_loss\"], color=\"orange\", label=\"test\")"
   ]
  },
  {
   "cell_type": "code",
   "execution_count": null,
   "metadata": {
    "colab": {
     "base_uri": "https://localhost:8080/",
     "height": 298
    },
    "id": "mrebrkqinW-C",
    "outputId": "245332c6-59f9-45af-8b63-07012a70c957"
   },
   "outputs": [
    {
     "data": {
      "text/plain": [
       "[<matplotlib.lines.Line2D at 0x7f870b4b35f8>]"
      ]
     },
     "execution_count": 78,
     "metadata": {
      "tags": []
     },
     "output_type": "execute_result"
    },
    {
     "data": {
      "image/png": "[encoded data removed]",
      "text/plain": [
       "<Figure size 432x288 with 1 Axes>"
      ]
     },
     "metadata": {
      "needs_background": "light",
      "tags": []
     },
     "output_type": "display_data"
    }
   ],
   "source": [
    "plt.title(\"Classification Accuracy\")\n",
    "plt.plot(history.history[\"accuracy\"], color=\"blue\", label=\"train\")\n",
    "plt.plot(history.history[\"val_accuracy\"], color=\"orange\", label=\"test\")\n"
   ]
  },
  {
   "cell_type": "code",
   "execution_count": null,
   "metadata": {
    "id": "rppcVnXUnc00"
   },
   "outputs": [],
   "source": []
  }
 ],
 "metadata": {
  "accelerator": "GPU",
  "colab": {
   "name": "cifar10-dataset-Using-BaseLine_Model.ipynb",
   "provenance": []
  },
  "kernelspec": {
   "display_name": "Python 3",
   "language": "python",
   "name": "python3"
  },
  "language_info": {
   "codemirror_mode": {
    "name": "ipython",
    "version": 3
   },
   "file_extension": ".py",
   "mimetype": "text/x-python",
   "name": "python",
   "nbconvert_exporter": "python",
   "pygments_lexer": "ipython3",
   "version": "3.7.3"
  }
 },
 "nbformat": 4,
 "nbformat_minor": 1
}
